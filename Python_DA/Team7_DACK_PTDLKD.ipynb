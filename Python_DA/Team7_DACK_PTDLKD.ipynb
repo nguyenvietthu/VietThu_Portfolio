{
  "cells": [
    {
      "cell_type": "markdown",
      "metadata": {
        "id": "JwquyMPigE7j"
      },
      "source": [
        "#**Step1: Import Library**"
      ]
    },
    {
      "cell_type": "code",
      "execution_count": 1,
      "metadata": {
        "id": "0FaBKIe7oQJn"
      },
      "outputs": [],
      "source": [
        "import numpy as np\n",
        "import pandas as pd \n",
        "import os\n",
        "from sklearn.model_selection import train_test_split\n",
        "from sklearn.preprocessing import StandardScaler\n",
        "import seaborn as sns\n",
        "import matplotlib.pyplot as plt \n",
        "from sklearn.metrics import r2_score\n",
        "from sklearn import model_selection\n",
        "from sklearn.model_selection import GridSearchCV"
      ]
    },
    {
      "cell_type": "code",
      "execution_count": 2,
      "metadata": {
        "colab": {
          "base_uri": "https://localhost:8080/"
        },
        "id": "7ZFycyVFJ0aL",
        "outputId": "9b6e72d5-6fd3-461e-e3bd-829ee94a4bbb"
      },
      "outputs": [
        {
          "output_type": "stream",
          "name": "stdout",
          "text": [
            "Mounted at /gdrive\n"
          ]
        }
      ],
      "source": [
        "from google.colab import drive\n",
        "drive.mount('/gdrive')"
      ]
    },
    {
      "cell_type": "markdown",
      "metadata": {
        "id": "h5NZL4N1gIlk"
      },
      "source": [
        "#**Step2: Reading File**"
      ]
    },
    {
      "cell_type": "code",
      "execution_count": 3,
      "metadata": {
        "id": "cBwqpOz_9uZL"
      },
      "outputs": [],
      "source": [
        "df1 = pd.read_csv(\"/gdrive/MyDrive/IS403/Houseprice.csv\")\n",
        "df2 = pd.read_csv(\"/gdrive/MyDrive/IS403/Houseprice2.csv\")"
      ]
    },
    {
      "cell_type": "code",
      "execution_count": 4,
      "metadata": {
        "colab": {
          "base_uri": "https://localhost:8080/",
          "height": 206
        },
        "id": "XZiaSQ3HnT5s",
        "outputId": "2c905099-ecfe-4350-9a79-e3af379ff3f8"
      },
      "outputs": [
        {
          "output_type": "execute_result",
          "data": {
            "text/plain": [
              "               Quận           Loại_BDS         Pháp_lý Số_tầng Số_phòng  \\\n",
              "0  Huyện Bình Chánh       Nhà mặt tiền  Sổ hồng/ Sổ đỏ       1        4   \n",
              "1      Huyện Củ Chi  Đất thổ cư, đất ở  Sổ hồng/ Sổ đỏ     ---      ---   \n",
              "2      Huyện Củ Chi  Đất thổ cư, đất ở  Sổ hồng/ Sổ đỏ     ---      ---   \n",
              "3      Huyện Củ Chi  Đất thổ cư, đất ở             ---     ---      ---   \n",
              "4      Huyện Củ Chi  Đất thổ cư, đất ở  Sổ hồng/ Sổ đỏ     ---      ---   \n",
              "\n",
              "   Diện_tích   Dài Rộng                Giá  \n",
              "0     100 m2   20m   5m            1,2 tỷ   \n",
              "1   3.100 m2   50m  30m   2,5 triệu / m2    \n",
              "2   5.002 m2  205m  45m          12,75 tỷ   \n",
              "3   4.147 m2   ---  ---           6,39 tỷ   \n",
              "4   1.635 m2   82m  20m              9 tỷ   "
            ],
            "text/html": [
              "\n",
              "  <div id=\"df-e467168d-49e3-4460-8164-759b6515dea6\">\n",
              "    <div class=\"colab-df-container\">\n",
              "      <div>\n",
              "<style scoped>\n",
              "    .dataframe tbody tr th:only-of-type {\n",
              "        vertical-align: middle;\n",
              "    }\n",
              "\n",
              "    .dataframe tbody tr th {\n",
              "        vertical-align: top;\n",
              "    }\n",
              "\n",
              "    .dataframe thead th {\n",
              "        text-align: right;\n",
              "    }\n",
              "</style>\n",
              "<table border=\"1\" class=\"dataframe\">\n",
              "  <thead>\n",
              "    <tr style=\"text-align: right;\">\n",
              "      <th></th>\n",
              "      <th>Quận</th>\n",
              "      <th>Loại_BDS</th>\n",
              "      <th>Pháp_lý</th>\n",
              "      <th>Số_tầng</th>\n",
              "      <th>Số_phòng</th>\n",
              "      <th>Diện_tích</th>\n",
              "      <th>Dài</th>\n",
              "      <th>Rộng</th>\n",
              "      <th>Giá</th>\n",
              "    </tr>\n",
              "  </thead>\n",
              "  <tbody>\n",
              "    <tr>\n",
              "      <th>0</th>\n",
              "      <td>Huyện Bình Chánh</td>\n",
              "      <td>Nhà mặt tiền</td>\n",
              "      <td>Sổ hồng/ Sổ đỏ</td>\n",
              "      <td>1</td>\n",
              "      <td>4</td>\n",
              "      <td>100 m2</td>\n",
              "      <td>20m</td>\n",
              "      <td>5m</td>\n",
              "      <td>1,2 tỷ</td>\n",
              "    </tr>\n",
              "    <tr>\n",
              "      <th>1</th>\n",
              "      <td>Huyện Củ Chi</td>\n",
              "      <td>Đất thổ cư, đất ở</td>\n",
              "      <td>Sổ hồng/ Sổ đỏ</td>\n",
              "      <td>---</td>\n",
              "      <td>---</td>\n",
              "      <td>3.100 m2</td>\n",
              "      <td>50m</td>\n",
              "      <td>30m</td>\n",
              "      <td>2,5 triệu / m2</td>\n",
              "    </tr>\n",
              "    <tr>\n",
              "      <th>2</th>\n",
              "      <td>Huyện Củ Chi</td>\n",
              "      <td>Đất thổ cư, đất ở</td>\n",
              "      <td>Sổ hồng/ Sổ đỏ</td>\n",
              "      <td>---</td>\n",
              "      <td>---</td>\n",
              "      <td>5.002 m2</td>\n",
              "      <td>205m</td>\n",
              "      <td>45m</td>\n",
              "      <td>12,75 tỷ</td>\n",
              "    </tr>\n",
              "    <tr>\n",
              "      <th>3</th>\n",
              "      <td>Huyện Củ Chi</td>\n",
              "      <td>Đất thổ cư, đất ở</td>\n",
              "      <td>---</td>\n",
              "      <td>---</td>\n",
              "      <td>---</td>\n",
              "      <td>4.147 m2</td>\n",
              "      <td>---</td>\n",
              "      <td>---</td>\n",
              "      <td>6,39 tỷ</td>\n",
              "    </tr>\n",
              "    <tr>\n",
              "      <th>4</th>\n",
              "      <td>Huyện Củ Chi</td>\n",
              "      <td>Đất thổ cư, đất ở</td>\n",
              "      <td>Sổ hồng/ Sổ đỏ</td>\n",
              "      <td>---</td>\n",
              "      <td>---</td>\n",
              "      <td>1.635 m2</td>\n",
              "      <td>82m</td>\n",
              "      <td>20m</td>\n",
              "      <td>9 tỷ</td>\n",
              "    </tr>\n",
              "  </tbody>\n",
              "</table>\n",
              "</div>\n",
              "      <button class=\"colab-df-convert\" onclick=\"convertToInteractive('df-e467168d-49e3-4460-8164-759b6515dea6')\"\n",
              "              title=\"Convert this dataframe to an interactive table.\"\n",
              "              style=\"display:none;\">\n",
              "        \n",
              "  <svg xmlns=\"http://www.w3.org/2000/svg\" height=\"24px\"viewBox=\"0 0 24 24\"\n",
              "       width=\"24px\">\n",
              "    <path d=\"M0 0h24v24H0V0z\" fill=\"none\"/>\n",
              "    <path d=\"M18.56 5.44l.94 2.06.94-2.06 2.06-.94-2.06-.94-.94-2.06-.94 2.06-2.06.94zm-11 1L8.5 8.5l.94-2.06 2.06-.94-2.06-.94L8.5 2.5l-.94 2.06-2.06.94zm10 10l.94 2.06.94-2.06 2.06-.94-2.06-.94-.94-2.06-.94 2.06-2.06.94z\"/><path d=\"M17.41 7.96l-1.37-1.37c-.4-.4-.92-.59-1.43-.59-.52 0-1.04.2-1.43.59L10.3 9.45l-7.72 7.72c-.78.78-.78 2.05 0 2.83L4 21.41c.39.39.9.59 1.41.59.51 0 1.02-.2 1.41-.59l7.78-7.78 2.81-2.81c.8-.78.8-2.07 0-2.86zM5.41 20L4 18.59l7.72-7.72 1.47 1.35L5.41 20z\"/>\n",
              "  </svg>\n",
              "      </button>\n",
              "      \n",
              "  <style>\n",
              "    .colab-df-container {\n",
              "      display:flex;\n",
              "      flex-wrap:wrap;\n",
              "      gap: 12px;\n",
              "    }\n",
              "\n",
              "    .colab-df-convert {\n",
              "      background-color: #E8F0FE;\n",
              "      border: none;\n",
              "      border-radius: 50%;\n",
              "      cursor: pointer;\n",
              "      display: none;\n",
              "      fill: #1967D2;\n",
              "      height: 32px;\n",
              "      padding: 0 0 0 0;\n",
              "      width: 32px;\n",
              "    }\n",
              "\n",
              "    .colab-df-convert:hover {\n",
              "      background-color: #E2EBFA;\n",
              "      box-shadow: 0px 1px 2px rgba(60, 64, 67, 0.3), 0px 1px 3px 1px rgba(60, 64, 67, 0.15);\n",
              "      fill: #174EA6;\n",
              "    }\n",
              "\n",
              "    [theme=dark] .colab-df-convert {\n",
              "      background-color: #3B4455;\n",
              "      fill: #D2E3FC;\n",
              "    }\n",
              "\n",
              "    [theme=dark] .colab-df-convert:hover {\n",
              "      background-color: #434B5C;\n",
              "      box-shadow: 0px 1px 3px 1px rgba(0, 0, 0, 0.15);\n",
              "      filter: drop-shadow(0px 1px 2px rgba(0, 0, 0, 0.3));\n",
              "      fill: #FFFFFF;\n",
              "    }\n",
              "  </style>\n",
              "\n",
              "      <script>\n",
              "        const buttonEl =\n",
              "          document.querySelector('#df-e467168d-49e3-4460-8164-759b6515dea6 button.colab-df-convert');\n",
              "        buttonEl.style.display =\n",
              "          google.colab.kernel.accessAllowed ? 'block' : 'none';\n",
              "\n",
              "        async function convertToInteractive(key) {\n",
              "          const element = document.querySelector('#df-e467168d-49e3-4460-8164-759b6515dea6');\n",
              "          const dataTable =\n",
              "            await google.colab.kernel.invokeFunction('convertToInteractive',\n",
              "                                                     [key], {});\n",
              "          if (!dataTable) return;\n",
              "\n",
              "          const docLinkHtml = 'Like what you see? Visit the ' +\n",
              "            '<a target=\"_blank\" href=https://colab.research.google.com/notebooks/data_table.ipynb>data table notebook</a>'\n",
              "            + ' to learn more about interactive tables.';\n",
              "          element.innerHTML = '';\n",
              "          dataTable['output_type'] = 'display_data';\n",
              "          await google.colab.output.renderOutput(dataTable, element);\n",
              "          const docLink = document.createElement('div');\n",
              "          docLink.innerHTML = docLinkHtml;\n",
              "          element.appendChild(docLink);\n",
              "        }\n",
              "      </script>\n",
              "    </div>\n",
              "  </div>\n",
              "  "
            ]
          },
          "metadata": {},
          "execution_count": 4
        }
      ],
      "source": [
        "df_org = pd.concat([df1,df2])\n",
        "df_org.head()"
      ]
    },
    {
      "cell_type": "code",
      "execution_count": 5,
      "metadata": {
        "id": "kviL8FV021Fw"
      },
      "outputs": [],
      "source": [
        "df = df_org.copy()"
      ]
    },
    {
      "cell_type": "code",
      "execution_count": 6,
      "metadata": {
        "id": "vnDcwtX5rybq"
      },
      "outputs": [],
      "source": [
        "df[df == \"---\"] = np.nan"
      ]
    },
    {
      "cell_type": "code",
      "execution_count": 7,
      "metadata": {
        "colab": {
          "base_uri": "https://localhost:8080/"
        },
        "id": "vXYhgOFGX7JW",
        "outputId": "8d8162fc-45b8-4c4a-ba83-861327858a9c"
      },
      "outputs": [
        {
          "output_type": "stream",
          "name": "stdout",
          "text": [
            "<class 'pandas.core.frame.DataFrame'>\n",
            "Int64Index: 20000 entries, 0 to 9999\n",
            "Data columns (total 9 columns):\n",
            " #   Column     Non-Null Count  Dtype \n",
            "---  ------     --------------  ----- \n",
            " 0   Quận       20000 non-null  object\n",
            " 1   Loại_BDS   20000 non-null  object\n",
            " 2   Pháp_lý    14109 non-null  object\n",
            " 3   Số_tầng    17092 non-null  object\n",
            " 4   Số_phòng   17079 non-null  object\n",
            " 5   Diện_tích  20000 non-null  object\n",
            " 6   Dài        16847 non-null  object\n",
            " 7   Rộng       17485 non-null  object\n",
            " 8   Giá        20000 non-null  object\n",
            "dtypes: object(9)\n",
            "memory usage: 1.5+ MB\n"
          ]
        }
      ],
      "source": [
        "df.info()"
      ]
    },
    {
      "cell_type": "markdown",
      "metadata": {
        "id": "8BS8aT8Tg5PN"
      },
      "source": [
        "##**Let's do some statistics**"
      ]
    },
    {
      "cell_type": "code",
      "execution_count": 8,
      "metadata": {
        "colab": {
          "base_uri": "https://localhost:8080/",
          "height": 175
        },
        "id": "Hgo0EN0Nak5g",
        "outputId": "d884ce3e-5dc5-4ef1-d601-3aa981edd470"
      },
      "outputs": [
        {
          "output_type": "execute_result",
          "data": {
            "text/plain": [
              "               Quận       Loại_BDS         Pháp_lý Số_tầng Số_phòng Diện_tích  \\\n",
              "count         20000          20000           14109   17092    17079     20000   \n",
              "unique           45             14               4      37       73       740   \n",
              "top     Quận Gò Vấp  Nhà trong hẻm  Sổ hồng/ Sổ đỏ       2        4    100 m2   \n",
              "freq           2891           8409           13780    3849     3923       948   \n",
              "\n",
              "          Dài   Rộng      Giá  \n",
              "count   16847  17485    20000  \n",
              "unique    330    281     1159  \n",
              "top       20m     4m   25 tỷ   \n",
              "freq     2097   4039      211  "
            ],
            "text/html": [
              "\n",
              "  <div id=\"df-1ddcd7f2-d6d6-489a-8d6a-8e6874904459\">\n",
              "    <div class=\"colab-df-container\">\n",
              "      <div>\n",
              "<style scoped>\n",
              "    .dataframe tbody tr th:only-of-type {\n",
              "        vertical-align: middle;\n",
              "    }\n",
              "\n",
              "    .dataframe tbody tr th {\n",
              "        vertical-align: top;\n",
              "    }\n",
              "\n",
              "    .dataframe thead th {\n",
              "        text-align: right;\n",
              "    }\n",
              "</style>\n",
              "<table border=\"1\" class=\"dataframe\">\n",
              "  <thead>\n",
              "    <tr style=\"text-align: right;\">\n",
              "      <th></th>\n",
              "      <th>Quận</th>\n",
              "      <th>Loại_BDS</th>\n",
              "      <th>Pháp_lý</th>\n",
              "      <th>Số_tầng</th>\n",
              "      <th>Số_phòng</th>\n",
              "      <th>Diện_tích</th>\n",
              "      <th>Dài</th>\n",
              "      <th>Rộng</th>\n",
              "      <th>Giá</th>\n",
              "    </tr>\n",
              "  </thead>\n",
              "  <tbody>\n",
              "    <tr>\n",
              "      <th>count</th>\n",
              "      <td>20000</td>\n",
              "      <td>20000</td>\n",
              "      <td>14109</td>\n",
              "      <td>17092</td>\n",
              "      <td>17079</td>\n",
              "      <td>20000</td>\n",
              "      <td>16847</td>\n",
              "      <td>17485</td>\n",
              "      <td>20000</td>\n",
              "    </tr>\n",
              "    <tr>\n",
              "      <th>unique</th>\n",
              "      <td>45</td>\n",
              "      <td>14</td>\n",
              "      <td>4</td>\n",
              "      <td>37</td>\n",
              "      <td>73</td>\n",
              "      <td>740</td>\n",
              "      <td>330</td>\n",
              "      <td>281</td>\n",
              "      <td>1159</td>\n",
              "    </tr>\n",
              "    <tr>\n",
              "      <th>top</th>\n",
              "      <td>Quận Gò Vấp</td>\n",
              "      <td>Nhà trong hẻm</td>\n",
              "      <td>Sổ hồng/ Sổ đỏ</td>\n",
              "      <td>2</td>\n",
              "      <td>4</td>\n",
              "      <td>100 m2</td>\n",
              "      <td>20m</td>\n",
              "      <td>4m</td>\n",
              "      <td>25 tỷ</td>\n",
              "    </tr>\n",
              "    <tr>\n",
              "      <th>freq</th>\n",
              "      <td>2891</td>\n",
              "      <td>8409</td>\n",
              "      <td>13780</td>\n",
              "      <td>3849</td>\n",
              "      <td>3923</td>\n",
              "      <td>948</td>\n",
              "      <td>2097</td>\n",
              "      <td>4039</td>\n",
              "      <td>211</td>\n",
              "    </tr>\n",
              "  </tbody>\n",
              "</table>\n",
              "</div>\n",
              "      <button class=\"colab-df-convert\" onclick=\"convertToInteractive('df-1ddcd7f2-d6d6-489a-8d6a-8e6874904459')\"\n",
              "              title=\"Convert this dataframe to an interactive table.\"\n",
              "              style=\"display:none;\">\n",
              "        \n",
              "  <svg xmlns=\"http://www.w3.org/2000/svg\" height=\"24px\"viewBox=\"0 0 24 24\"\n",
              "       width=\"24px\">\n",
              "    <path d=\"M0 0h24v24H0V0z\" fill=\"none\"/>\n",
              "    <path d=\"M18.56 5.44l.94 2.06.94-2.06 2.06-.94-2.06-.94-.94-2.06-.94 2.06-2.06.94zm-11 1L8.5 8.5l.94-2.06 2.06-.94-2.06-.94L8.5 2.5l-.94 2.06-2.06.94zm10 10l.94 2.06.94-2.06 2.06-.94-2.06-.94-.94-2.06-.94 2.06-2.06.94z\"/><path d=\"M17.41 7.96l-1.37-1.37c-.4-.4-.92-.59-1.43-.59-.52 0-1.04.2-1.43.59L10.3 9.45l-7.72 7.72c-.78.78-.78 2.05 0 2.83L4 21.41c.39.39.9.59 1.41.59.51 0 1.02-.2 1.41-.59l7.78-7.78 2.81-2.81c.8-.78.8-2.07 0-2.86zM5.41 20L4 18.59l7.72-7.72 1.47 1.35L5.41 20z\"/>\n",
              "  </svg>\n",
              "      </button>\n",
              "      \n",
              "  <style>\n",
              "    .colab-df-container {\n",
              "      display:flex;\n",
              "      flex-wrap:wrap;\n",
              "      gap: 12px;\n",
              "    }\n",
              "\n",
              "    .colab-df-convert {\n",
              "      background-color: #E8F0FE;\n",
              "      border: none;\n",
              "      border-radius: 50%;\n",
              "      cursor: pointer;\n",
              "      display: none;\n",
              "      fill: #1967D2;\n",
              "      height: 32px;\n",
              "      padding: 0 0 0 0;\n",
              "      width: 32px;\n",
              "    }\n",
              "\n",
              "    .colab-df-convert:hover {\n",
              "      background-color: #E2EBFA;\n",
              "      box-shadow: 0px 1px 2px rgba(60, 64, 67, 0.3), 0px 1px 3px 1px rgba(60, 64, 67, 0.15);\n",
              "      fill: #174EA6;\n",
              "    }\n",
              "\n",
              "    [theme=dark] .colab-df-convert {\n",
              "      background-color: #3B4455;\n",
              "      fill: #D2E3FC;\n",
              "    }\n",
              "\n",
              "    [theme=dark] .colab-df-convert:hover {\n",
              "      background-color: #434B5C;\n",
              "      box-shadow: 0px 1px 3px 1px rgba(0, 0, 0, 0.15);\n",
              "      filter: drop-shadow(0px 1px 2px rgba(0, 0, 0, 0.3));\n",
              "      fill: #FFFFFF;\n",
              "    }\n",
              "  </style>\n",
              "\n",
              "      <script>\n",
              "        const buttonEl =\n",
              "          document.querySelector('#df-1ddcd7f2-d6d6-489a-8d6a-8e6874904459 button.colab-df-convert');\n",
              "        buttonEl.style.display =\n",
              "          google.colab.kernel.accessAllowed ? 'block' : 'none';\n",
              "\n",
              "        async function convertToInteractive(key) {\n",
              "          const element = document.querySelector('#df-1ddcd7f2-d6d6-489a-8d6a-8e6874904459');\n",
              "          const dataTable =\n",
              "            await google.colab.kernel.invokeFunction('convertToInteractive',\n",
              "                                                     [key], {});\n",
              "          if (!dataTable) return;\n",
              "\n",
              "          const docLinkHtml = 'Like what you see? Visit the ' +\n",
              "            '<a target=\"_blank\" href=https://colab.research.google.com/notebooks/data_table.ipynb>data table notebook</a>'\n",
              "            + ' to learn more about interactive tables.';\n",
              "          element.innerHTML = '';\n",
              "          dataTable['output_type'] = 'display_data';\n",
              "          await google.colab.output.renderOutput(dataTable, element);\n",
              "          const docLink = document.createElement('div');\n",
              "          docLink.innerHTML = docLinkHtml;\n",
              "          element.appendChild(docLink);\n",
              "        }\n",
              "      </script>\n",
              "    </div>\n",
              "  </div>\n",
              "  "
            ]
          },
          "metadata": {},
          "execution_count": 8
        }
      ],
      "source": [
        "df.describe()"
      ]
    },
    {
      "cell_type": "code",
      "execution_count": 9,
      "metadata": {
        "colab": {
          "base_uri": "https://localhost:8080/",
          "height": 206
        },
        "id": "KmkrWViLq2f7",
        "outputId": "ed021f6e-730e-4d1e-936f-3c6972cf72ee"
      },
      "outputs": [
        {
          "output_type": "execute_result",
          "data": {
            "text/plain": [
              "               Quận           Loại_BDS         Pháp_lý Số_tầng Số_phòng  \\\n",
              "0  Huyện Bình Chánh       Nhà mặt tiền  Sổ hồng/ Sổ đỏ       1        4   \n",
              "1      Huyện Củ Chi  Đất thổ cư, đất ở  Sổ hồng/ Sổ đỏ     NaN      NaN   \n",
              "2      Huyện Củ Chi  Đất thổ cư, đất ở  Sổ hồng/ Sổ đỏ     NaN      NaN   \n",
              "3      Huyện Củ Chi  Đất thổ cư, đất ở             NaN     NaN      NaN   \n",
              "4      Huyện Củ Chi  Đất thổ cư, đất ở  Sổ hồng/ Sổ đỏ     NaN      NaN   \n",
              "\n",
              "   Diện_tích   Dài Rộng                Giá  \n",
              "0     100 m2   20m   5m            1,2 tỷ   \n",
              "1   3.100 m2   50m  30m   2,5 triệu / m2    \n",
              "2   5.002 m2  205m  45m          12,75 tỷ   \n",
              "3   4.147 m2   NaN  NaN           6,39 tỷ   \n",
              "4   1.635 m2   82m  20m              9 tỷ   "
            ],
            "text/html": [
              "\n",
              "  <div id=\"df-ab609381-84e8-40bd-ace8-b496270b27ba\">\n",
              "    <div class=\"colab-df-container\">\n",
              "      <div>\n",
              "<style scoped>\n",
              "    .dataframe tbody tr th:only-of-type {\n",
              "        vertical-align: middle;\n",
              "    }\n",
              "\n",
              "    .dataframe tbody tr th {\n",
              "        vertical-align: top;\n",
              "    }\n",
              "\n",
              "    .dataframe thead th {\n",
              "        text-align: right;\n",
              "    }\n",
              "</style>\n",
              "<table border=\"1\" class=\"dataframe\">\n",
              "  <thead>\n",
              "    <tr style=\"text-align: right;\">\n",
              "      <th></th>\n",
              "      <th>Quận</th>\n",
              "      <th>Loại_BDS</th>\n",
              "      <th>Pháp_lý</th>\n",
              "      <th>Số_tầng</th>\n",
              "      <th>Số_phòng</th>\n",
              "      <th>Diện_tích</th>\n",
              "      <th>Dài</th>\n",
              "      <th>Rộng</th>\n",
              "      <th>Giá</th>\n",
              "    </tr>\n",
              "  </thead>\n",
              "  <tbody>\n",
              "    <tr>\n",
              "      <th>0</th>\n",
              "      <td>Huyện Bình Chánh</td>\n",
              "      <td>Nhà mặt tiền</td>\n",
              "      <td>Sổ hồng/ Sổ đỏ</td>\n",
              "      <td>1</td>\n",
              "      <td>4</td>\n",
              "      <td>100 m2</td>\n",
              "      <td>20m</td>\n",
              "      <td>5m</td>\n",
              "      <td>1,2 tỷ</td>\n",
              "    </tr>\n",
              "    <tr>\n",
              "      <th>1</th>\n",
              "      <td>Huyện Củ Chi</td>\n",
              "      <td>Đất thổ cư, đất ở</td>\n",
              "      <td>Sổ hồng/ Sổ đỏ</td>\n",
              "      <td>NaN</td>\n",
              "      <td>NaN</td>\n",
              "      <td>3.100 m2</td>\n",
              "      <td>50m</td>\n",
              "      <td>30m</td>\n",
              "      <td>2,5 triệu / m2</td>\n",
              "    </tr>\n",
              "    <tr>\n",
              "      <th>2</th>\n",
              "      <td>Huyện Củ Chi</td>\n",
              "      <td>Đất thổ cư, đất ở</td>\n",
              "      <td>Sổ hồng/ Sổ đỏ</td>\n",
              "      <td>NaN</td>\n",
              "      <td>NaN</td>\n",
              "      <td>5.002 m2</td>\n",
              "      <td>205m</td>\n",
              "      <td>45m</td>\n",
              "      <td>12,75 tỷ</td>\n",
              "    </tr>\n",
              "    <tr>\n",
              "      <th>3</th>\n",
              "      <td>Huyện Củ Chi</td>\n",
              "      <td>Đất thổ cư, đất ở</td>\n",
              "      <td>NaN</td>\n",
              "      <td>NaN</td>\n",
              "      <td>NaN</td>\n",
              "      <td>4.147 m2</td>\n",
              "      <td>NaN</td>\n",
              "      <td>NaN</td>\n",
              "      <td>6,39 tỷ</td>\n",
              "    </tr>\n",
              "    <tr>\n",
              "      <th>4</th>\n",
              "      <td>Huyện Củ Chi</td>\n",
              "      <td>Đất thổ cư, đất ở</td>\n",
              "      <td>Sổ hồng/ Sổ đỏ</td>\n",
              "      <td>NaN</td>\n",
              "      <td>NaN</td>\n",
              "      <td>1.635 m2</td>\n",
              "      <td>82m</td>\n",
              "      <td>20m</td>\n",
              "      <td>9 tỷ</td>\n",
              "    </tr>\n",
              "  </tbody>\n",
              "</table>\n",
              "</div>\n",
              "      <button class=\"colab-df-convert\" onclick=\"convertToInteractive('df-ab609381-84e8-40bd-ace8-b496270b27ba')\"\n",
              "              title=\"Convert this dataframe to an interactive table.\"\n",
              "              style=\"display:none;\">\n",
              "        \n",
              "  <svg xmlns=\"http://www.w3.org/2000/svg\" height=\"24px\"viewBox=\"0 0 24 24\"\n",
              "       width=\"24px\">\n",
              "    <path d=\"M0 0h24v24H0V0z\" fill=\"none\"/>\n",
              "    <path d=\"M18.56 5.44l.94 2.06.94-2.06 2.06-.94-2.06-.94-.94-2.06-.94 2.06-2.06.94zm-11 1L8.5 8.5l.94-2.06 2.06-.94-2.06-.94L8.5 2.5l-.94 2.06-2.06.94zm10 10l.94 2.06.94-2.06 2.06-.94-2.06-.94-.94-2.06-.94 2.06-2.06.94z\"/><path d=\"M17.41 7.96l-1.37-1.37c-.4-.4-.92-.59-1.43-.59-.52 0-1.04.2-1.43.59L10.3 9.45l-7.72 7.72c-.78.78-.78 2.05 0 2.83L4 21.41c.39.39.9.59 1.41.59.51 0 1.02-.2 1.41-.59l7.78-7.78 2.81-2.81c.8-.78.8-2.07 0-2.86zM5.41 20L4 18.59l7.72-7.72 1.47 1.35L5.41 20z\"/>\n",
              "  </svg>\n",
              "      </button>\n",
              "      \n",
              "  <style>\n",
              "    .colab-df-container {\n",
              "      display:flex;\n",
              "      flex-wrap:wrap;\n",
              "      gap: 12px;\n",
              "    }\n",
              "\n",
              "    .colab-df-convert {\n",
              "      background-color: #E8F0FE;\n",
              "      border: none;\n",
              "      border-radius: 50%;\n",
              "      cursor: pointer;\n",
              "      display: none;\n",
              "      fill: #1967D2;\n",
              "      height: 32px;\n",
              "      padding: 0 0 0 0;\n",
              "      width: 32px;\n",
              "    }\n",
              "\n",
              "    .colab-df-convert:hover {\n",
              "      background-color: #E2EBFA;\n",
              "      box-shadow: 0px 1px 2px rgba(60, 64, 67, 0.3), 0px 1px 3px 1px rgba(60, 64, 67, 0.15);\n",
              "      fill: #174EA6;\n",
              "    }\n",
              "\n",
              "    [theme=dark] .colab-df-convert {\n",
              "      background-color: #3B4455;\n",
              "      fill: #D2E3FC;\n",
              "    }\n",
              "\n",
              "    [theme=dark] .colab-df-convert:hover {\n",
              "      background-color: #434B5C;\n",
              "      box-shadow: 0px 1px 3px 1px rgba(0, 0, 0, 0.15);\n",
              "      filter: drop-shadow(0px 1px 2px rgba(0, 0, 0, 0.3));\n",
              "      fill: #FFFFFF;\n",
              "    }\n",
              "  </style>\n",
              "\n",
              "      <script>\n",
              "        const buttonEl =\n",
              "          document.querySelector('#df-ab609381-84e8-40bd-ace8-b496270b27ba button.colab-df-convert');\n",
              "        buttonEl.style.display =\n",
              "          google.colab.kernel.accessAllowed ? 'block' : 'none';\n",
              "\n",
              "        async function convertToInteractive(key) {\n",
              "          const element = document.querySelector('#df-ab609381-84e8-40bd-ace8-b496270b27ba');\n",
              "          const dataTable =\n",
              "            await google.colab.kernel.invokeFunction('convertToInteractive',\n",
              "                                                     [key], {});\n",
              "          if (!dataTable) return;\n",
              "\n",
              "          const docLinkHtml = 'Like what you see? Visit the ' +\n",
              "            '<a target=\"_blank\" href=https://colab.research.google.com/notebooks/data_table.ipynb>data table notebook</a>'\n",
              "            + ' to learn more about interactive tables.';\n",
              "          element.innerHTML = '';\n",
              "          dataTable['output_type'] = 'display_data';\n",
              "          await google.colab.output.renderOutput(dataTable, element);\n",
              "          const docLink = document.createElement('div');\n",
              "          docLink.innerHTML = docLinkHtml;\n",
              "          element.appendChild(docLink);\n",
              "        }\n",
              "      </script>\n",
              "    </div>\n",
              "  </div>\n",
              "  "
            ]
          },
          "metadata": {},
          "execution_count": 9
        }
      ],
      "source": [
        "df.head()"
      ]
    },
    {
      "cell_type": "markdown",
      "metadata": {
        "id": "9pmOMGwstqkB"
      },
      "source": [
        "#**Step3: Cleaning data**"
      ]
    },
    {
      "cell_type": "code",
      "execution_count": 10,
      "metadata": {
        "colab": {
          "base_uri": "https://localhost:8080/"
        },
        "id": "TorCtR3jfEOl",
        "outputId": "5a8a1447-220c-45ea-b9a3-21e24d487dcb"
      },
      "outputs": [
        {
          "output_type": "stream",
          "name": "stdout",
          "text": [
            "The length of the dataset after dropping null values is 14099 rows.\n"
          ]
        }
      ],
      "source": [
        "df_renamed = df.rename(columns = {\"Quận\":\"district\", \n",
        "                                  \"Loại_BDS\":\"type_of_housing\",\n",
        "                                 \"Pháp_lý\":\"legal_paper\",\n",
        "                                  \"Số_tầng\":\"num_floors\",\n",
        "                                 \"Số_phòng\":\"num_bed_rooms\",\n",
        "                                  \"Diện_tích\":\"squared_meter_area\",\n",
        "                                 \"Dài\":\"length_meter\", \"Rộng\":\"width_meter\", \"Giá\":\"price\"})\n",
        "df_renamed['legal_paper'] = df_renamed['legal_paper'].fillna('Không có giấy')\n",
        "df_renamed = df_renamed.dropna()\n",
        "df_renamed = df_renamed.reset_index()\n",
        "\n",
        "# The length of the dataset after dropping null values\n",
        "print(\"The length of the dataset after dropping null values is\", str(len(df_renamed)), \"rows.\")"
      ]
    },
    {
      "cell_type": "code",
      "execution_count": 11,
      "metadata": {
        "colab": {
          "base_uri": "https://localhost:8080/",
          "height": 250
        },
        "id": "7J8obpxDso5z",
        "outputId": "7aab9891-2817-4d14-cf32-103d2121881a"
      },
      "outputs": [
        {
          "output_type": "execute_result",
          "data": {
            "text/plain": [
              "   index           district type_of_housing     legal_paper num_floors  \\\n",
              "0      0   Huyện Bình Chánh    Nhà mặt tiền  Sổ hồng/ Sổ đỏ          1   \n",
              "1      6  Thành phố Thủ Đức    Nhà mặt tiền   Không có giấy          3   \n",
              "2      8  Thành phố Thủ Đức    Nhà mặt tiền  Sổ hồng/ Sổ đỏ          4   \n",
              "3     11  Thành phố Thủ Đức   Nhà trong hẻm  Sổ hồng/ Sổ đỏ          3   \n",
              "4     14   Huyện Bình Chánh    Nhà mặt tiền   Không có giấy          1   \n",
              "\n",
              "  num_bed_rooms squared_meter_area length_meter width_meter      price  \n",
              "0             4             100 m2          20m          5m    1,2 tỷ   \n",
              "1             4              55 m2          11m          5m      7 tỷ   \n",
              "2             4              72 m2          14m          5m    9,2 tỷ   \n",
              "3             3              73 m2          12m        6,6m   4,99 tỷ   \n",
              "4             4             100 m2          20m          5m      1 tỷ   "
            ],
            "text/html": [
              "\n",
              "  <div id=\"df-909acd84-804d-4709-92cf-a482bcf8b873\">\n",
              "    <div class=\"colab-df-container\">\n",
              "      <div>\n",
              "<style scoped>\n",
              "    .dataframe tbody tr th:only-of-type {\n",
              "        vertical-align: middle;\n",
              "    }\n",
              "\n",
              "    .dataframe tbody tr th {\n",
              "        vertical-align: top;\n",
              "    }\n",
              "\n",
              "    .dataframe thead th {\n",
              "        text-align: right;\n",
              "    }\n",
              "</style>\n",
              "<table border=\"1\" class=\"dataframe\">\n",
              "  <thead>\n",
              "    <tr style=\"text-align: right;\">\n",
              "      <th></th>\n",
              "      <th>index</th>\n",
              "      <th>district</th>\n",
              "      <th>type_of_housing</th>\n",
              "      <th>legal_paper</th>\n",
              "      <th>num_floors</th>\n",
              "      <th>num_bed_rooms</th>\n",
              "      <th>squared_meter_area</th>\n",
              "      <th>length_meter</th>\n",
              "      <th>width_meter</th>\n",
              "      <th>price</th>\n",
              "    </tr>\n",
              "  </thead>\n",
              "  <tbody>\n",
              "    <tr>\n",
              "      <th>0</th>\n",
              "      <td>0</td>\n",
              "      <td>Huyện Bình Chánh</td>\n",
              "      <td>Nhà mặt tiền</td>\n",
              "      <td>Sổ hồng/ Sổ đỏ</td>\n",
              "      <td>1</td>\n",
              "      <td>4</td>\n",
              "      <td>100 m2</td>\n",
              "      <td>20m</td>\n",
              "      <td>5m</td>\n",
              "      <td>1,2 tỷ</td>\n",
              "    </tr>\n",
              "    <tr>\n",
              "      <th>1</th>\n",
              "      <td>6</td>\n",
              "      <td>Thành phố Thủ Đức</td>\n",
              "      <td>Nhà mặt tiền</td>\n",
              "      <td>Không có giấy</td>\n",
              "      <td>3</td>\n",
              "      <td>4</td>\n",
              "      <td>55 m2</td>\n",
              "      <td>11m</td>\n",
              "      <td>5m</td>\n",
              "      <td>7 tỷ</td>\n",
              "    </tr>\n",
              "    <tr>\n",
              "      <th>2</th>\n",
              "      <td>8</td>\n",
              "      <td>Thành phố Thủ Đức</td>\n",
              "      <td>Nhà mặt tiền</td>\n",
              "      <td>Sổ hồng/ Sổ đỏ</td>\n",
              "      <td>4</td>\n",
              "      <td>4</td>\n",
              "      <td>72 m2</td>\n",
              "      <td>14m</td>\n",
              "      <td>5m</td>\n",
              "      <td>9,2 tỷ</td>\n",
              "    </tr>\n",
              "    <tr>\n",
              "      <th>3</th>\n",
              "      <td>11</td>\n",
              "      <td>Thành phố Thủ Đức</td>\n",
              "      <td>Nhà trong hẻm</td>\n",
              "      <td>Sổ hồng/ Sổ đỏ</td>\n",
              "      <td>3</td>\n",
              "      <td>3</td>\n",
              "      <td>73 m2</td>\n",
              "      <td>12m</td>\n",
              "      <td>6,6m</td>\n",
              "      <td>4,99 tỷ</td>\n",
              "    </tr>\n",
              "    <tr>\n",
              "      <th>4</th>\n",
              "      <td>14</td>\n",
              "      <td>Huyện Bình Chánh</td>\n",
              "      <td>Nhà mặt tiền</td>\n",
              "      <td>Không có giấy</td>\n",
              "      <td>1</td>\n",
              "      <td>4</td>\n",
              "      <td>100 m2</td>\n",
              "      <td>20m</td>\n",
              "      <td>5m</td>\n",
              "      <td>1 tỷ</td>\n",
              "    </tr>\n",
              "  </tbody>\n",
              "</table>\n",
              "</div>\n",
              "      <button class=\"colab-df-convert\" onclick=\"convertToInteractive('df-909acd84-804d-4709-92cf-a482bcf8b873')\"\n",
              "              title=\"Convert this dataframe to an interactive table.\"\n",
              "              style=\"display:none;\">\n",
              "        \n",
              "  <svg xmlns=\"http://www.w3.org/2000/svg\" height=\"24px\"viewBox=\"0 0 24 24\"\n",
              "       width=\"24px\">\n",
              "    <path d=\"M0 0h24v24H0V0z\" fill=\"none\"/>\n",
              "    <path d=\"M18.56 5.44l.94 2.06.94-2.06 2.06-.94-2.06-.94-.94-2.06-.94 2.06-2.06.94zm-11 1L8.5 8.5l.94-2.06 2.06-.94-2.06-.94L8.5 2.5l-.94 2.06-2.06.94zm10 10l.94 2.06.94-2.06 2.06-.94-2.06-.94-.94-2.06-.94 2.06-2.06.94z\"/><path d=\"M17.41 7.96l-1.37-1.37c-.4-.4-.92-.59-1.43-.59-.52 0-1.04.2-1.43.59L10.3 9.45l-7.72 7.72c-.78.78-.78 2.05 0 2.83L4 21.41c.39.39.9.59 1.41.59.51 0 1.02-.2 1.41-.59l7.78-7.78 2.81-2.81c.8-.78.8-2.07 0-2.86zM5.41 20L4 18.59l7.72-7.72 1.47 1.35L5.41 20z\"/>\n",
              "  </svg>\n",
              "      </button>\n",
              "      \n",
              "  <style>\n",
              "    .colab-df-container {\n",
              "      display:flex;\n",
              "      flex-wrap:wrap;\n",
              "      gap: 12px;\n",
              "    }\n",
              "\n",
              "    .colab-df-convert {\n",
              "      background-color: #E8F0FE;\n",
              "      border: none;\n",
              "      border-radius: 50%;\n",
              "      cursor: pointer;\n",
              "      display: none;\n",
              "      fill: #1967D2;\n",
              "      height: 32px;\n",
              "      padding: 0 0 0 0;\n",
              "      width: 32px;\n",
              "    }\n",
              "\n",
              "    .colab-df-convert:hover {\n",
              "      background-color: #E2EBFA;\n",
              "      box-shadow: 0px 1px 2px rgba(60, 64, 67, 0.3), 0px 1px 3px 1px rgba(60, 64, 67, 0.15);\n",
              "      fill: #174EA6;\n",
              "    }\n",
              "\n",
              "    [theme=dark] .colab-df-convert {\n",
              "      background-color: #3B4455;\n",
              "      fill: #D2E3FC;\n",
              "    }\n",
              "\n",
              "    [theme=dark] .colab-df-convert:hover {\n",
              "      background-color: #434B5C;\n",
              "      box-shadow: 0px 1px 3px 1px rgba(0, 0, 0, 0.15);\n",
              "      filter: drop-shadow(0px 1px 2px rgba(0, 0, 0, 0.3));\n",
              "      fill: #FFFFFF;\n",
              "    }\n",
              "  </style>\n",
              "\n",
              "      <script>\n",
              "        const buttonEl =\n",
              "          document.querySelector('#df-909acd84-804d-4709-92cf-a482bcf8b873 button.colab-df-convert');\n",
              "        buttonEl.style.display =\n",
              "          google.colab.kernel.accessAllowed ? 'block' : 'none';\n",
              "\n",
              "        async function convertToInteractive(key) {\n",
              "          const element = document.querySelector('#df-909acd84-804d-4709-92cf-a482bcf8b873');\n",
              "          const dataTable =\n",
              "            await google.colab.kernel.invokeFunction('convertToInteractive',\n",
              "                                                     [key], {});\n",
              "          if (!dataTable) return;\n",
              "\n",
              "          const docLinkHtml = 'Like what you see? Visit the ' +\n",
              "            '<a target=\"_blank\" href=https://colab.research.google.com/notebooks/data_table.ipynb>data table notebook</a>'\n",
              "            + ' to learn more about interactive tables.';\n",
              "          element.innerHTML = '';\n",
              "          dataTable['output_type'] = 'display_data';\n",
              "          await google.colab.output.renderOutput(dataTable, element);\n",
              "          const docLink = document.createElement('div');\n",
              "          docLink.innerHTML = docLinkHtml;\n",
              "          element.appendChild(docLink);\n",
              "        }\n",
              "      </script>\n",
              "    </div>\n",
              "  </div>\n",
              "  "
            ]
          },
          "metadata": {},
          "execution_count": 11
        }
      ],
      "source": [
        "df_renamed.head()"
      ]
    },
    {
      "cell_type": "markdown",
      "metadata": {
        "id": "ZODDOcgLvY_C"
      },
      "source": [
        "##**Cleaning data in each column**"
      ]
    },
    {
      "cell_type": "code",
      "execution_count": 12,
      "metadata": {
        "colab": {
          "base_uri": "https://localhost:8080/"
        },
        "id": "2M84gWQh4WH3",
        "outputId": "23c3e907-1726-42d5-e550-a28eca0ea210"
      },
      "outputs": [
        {
          "output_type": "stream",
          "name": "stdout",
          "text": [
            "<class 'pandas.core.frame.DataFrame'>\n",
            "RangeIndex: 14099 entries, 0 to 14098\n",
            "Data columns (total 10 columns):\n",
            " #   Column              Non-Null Count  Dtype \n",
            "---  ------              --------------  ----- \n",
            " 0   index               14099 non-null  int64 \n",
            " 1   district            14099 non-null  object\n",
            " 2   type_of_housing     14099 non-null  object\n",
            " 3   legal_paper         14099 non-null  object\n",
            " 4   num_floors          14099 non-null  object\n",
            " 5   num_bed_rooms       14099 non-null  object\n",
            " 6   squared_meter_area  14099 non-null  object\n",
            " 7   length_meter        14099 non-null  object\n",
            " 8   width_meter         14099 non-null  object\n",
            " 9   price               14099 non-null  object\n",
            "dtypes: int64(1), object(9)\n",
            "memory usage: 1.1+ MB\n"
          ]
        }
      ],
      "source": [
        "df_renamed.info()"
      ]
    },
    {
      "cell_type": "code",
      "execution_count": 13,
      "metadata": {
        "colab": {
          "base_uri": "https://localhost:8080/",
          "height": 250
        },
        "id": "5puqnJzj7QPY",
        "outputId": "0c4ce194-73c9-46cf-ec0f-01c0fdf5ba97"
      },
      "outputs": [
        {
          "output_type": "execute_result",
          "data": {
            "text/plain": [
              "   index           district type_of_housing     legal_paper num_floors  \\\n",
              "0      0   Huyện Bình Chánh    Nhà mặt tiền  Sổ hồng/ Sổ đỏ          1   \n",
              "1      6  Thành phố Thủ Đức    Nhà mặt tiền   Không có giấy          3   \n",
              "2      8  Thành phố Thủ Đức    Nhà mặt tiền  Sổ hồng/ Sổ đỏ          4   \n",
              "3     11  Thành phố Thủ Đức   Nhà trong hẻm  Sổ hồng/ Sổ đỏ          3   \n",
              "4     14   Huyện Bình Chánh    Nhà mặt tiền   Không có giấy          1   \n",
              "\n",
              "  num_bed_rooms squared_meter_area length_meter width_meter      price  \n",
              "0             4             100 m2          20m          5m    1,2 tỷ   \n",
              "1             4              55 m2          11m          5m      7 tỷ   \n",
              "2             4              72 m2          14m          5m    9,2 tỷ   \n",
              "3             3              73 m2          12m        6,6m   4,99 tỷ   \n",
              "4             4             100 m2          20m          5m      1 tỷ   "
            ],
            "text/html": [
              "\n",
              "  <div id=\"df-d2edd13a-5aac-4870-bf40-7e07ae84300b\">\n",
              "    <div class=\"colab-df-container\">\n",
              "      <div>\n",
              "<style scoped>\n",
              "    .dataframe tbody tr th:only-of-type {\n",
              "        vertical-align: middle;\n",
              "    }\n",
              "\n",
              "    .dataframe tbody tr th {\n",
              "        vertical-align: top;\n",
              "    }\n",
              "\n",
              "    .dataframe thead th {\n",
              "        text-align: right;\n",
              "    }\n",
              "</style>\n",
              "<table border=\"1\" class=\"dataframe\">\n",
              "  <thead>\n",
              "    <tr style=\"text-align: right;\">\n",
              "      <th></th>\n",
              "      <th>index</th>\n",
              "      <th>district</th>\n",
              "      <th>type_of_housing</th>\n",
              "      <th>legal_paper</th>\n",
              "      <th>num_floors</th>\n",
              "      <th>num_bed_rooms</th>\n",
              "      <th>squared_meter_area</th>\n",
              "      <th>length_meter</th>\n",
              "      <th>width_meter</th>\n",
              "      <th>price</th>\n",
              "    </tr>\n",
              "  </thead>\n",
              "  <tbody>\n",
              "    <tr>\n",
              "      <th>0</th>\n",
              "      <td>0</td>\n",
              "      <td>Huyện Bình Chánh</td>\n",
              "      <td>Nhà mặt tiền</td>\n",
              "      <td>Sổ hồng/ Sổ đỏ</td>\n",
              "      <td>1</td>\n",
              "      <td>4</td>\n",
              "      <td>100 m2</td>\n",
              "      <td>20m</td>\n",
              "      <td>5m</td>\n",
              "      <td>1,2 tỷ</td>\n",
              "    </tr>\n",
              "    <tr>\n",
              "      <th>1</th>\n",
              "      <td>6</td>\n",
              "      <td>Thành phố Thủ Đức</td>\n",
              "      <td>Nhà mặt tiền</td>\n",
              "      <td>Không có giấy</td>\n",
              "      <td>3</td>\n",
              "      <td>4</td>\n",
              "      <td>55 m2</td>\n",
              "      <td>11m</td>\n",
              "      <td>5m</td>\n",
              "      <td>7 tỷ</td>\n",
              "    </tr>\n",
              "    <tr>\n",
              "      <th>2</th>\n",
              "      <td>8</td>\n",
              "      <td>Thành phố Thủ Đức</td>\n",
              "      <td>Nhà mặt tiền</td>\n",
              "      <td>Sổ hồng/ Sổ đỏ</td>\n",
              "      <td>4</td>\n",
              "      <td>4</td>\n",
              "      <td>72 m2</td>\n",
              "      <td>14m</td>\n",
              "      <td>5m</td>\n",
              "      <td>9,2 tỷ</td>\n",
              "    </tr>\n",
              "    <tr>\n",
              "      <th>3</th>\n",
              "      <td>11</td>\n",
              "      <td>Thành phố Thủ Đức</td>\n",
              "      <td>Nhà trong hẻm</td>\n",
              "      <td>Sổ hồng/ Sổ đỏ</td>\n",
              "      <td>3</td>\n",
              "      <td>3</td>\n",
              "      <td>73 m2</td>\n",
              "      <td>12m</td>\n",
              "      <td>6,6m</td>\n",
              "      <td>4,99 tỷ</td>\n",
              "    </tr>\n",
              "    <tr>\n",
              "      <th>4</th>\n",
              "      <td>14</td>\n",
              "      <td>Huyện Bình Chánh</td>\n",
              "      <td>Nhà mặt tiền</td>\n",
              "      <td>Không có giấy</td>\n",
              "      <td>1</td>\n",
              "      <td>4</td>\n",
              "      <td>100 m2</td>\n",
              "      <td>20m</td>\n",
              "      <td>5m</td>\n",
              "      <td>1 tỷ</td>\n",
              "    </tr>\n",
              "  </tbody>\n",
              "</table>\n",
              "</div>\n",
              "      <button class=\"colab-df-convert\" onclick=\"convertToInteractive('df-d2edd13a-5aac-4870-bf40-7e07ae84300b')\"\n",
              "              title=\"Convert this dataframe to an interactive table.\"\n",
              "              style=\"display:none;\">\n",
              "        \n",
              "  <svg xmlns=\"http://www.w3.org/2000/svg\" height=\"24px\"viewBox=\"0 0 24 24\"\n",
              "       width=\"24px\">\n",
              "    <path d=\"M0 0h24v24H0V0z\" fill=\"none\"/>\n",
              "    <path d=\"M18.56 5.44l.94 2.06.94-2.06 2.06-.94-2.06-.94-.94-2.06-.94 2.06-2.06.94zm-11 1L8.5 8.5l.94-2.06 2.06-.94-2.06-.94L8.5 2.5l-.94 2.06-2.06.94zm10 10l.94 2.06.94-2.06 2.06-.94-2.06-.94-.94-2.06-.94 2.06-2.06.94z\"/><path d=\"M17.41 7.96l-1.37-1.37c-.4-.4-.92-.59-1.43-.59-.52 0-1.04.2-1.43.59L10.3 9.45l-7.72 7.72c-.78.78-.78 2.05 0 2.83L4 21.41c.39.39.9.59 1.41.59.51 0 1.02-.2 1.41-.59l7.78-7.78 2.81-2.81c.8-.78.8-2.07 0-2.86zM5.41 20L4 18.59l7.72-7.72 1.47 1.35L5.41 20z\"/>\n",
              "  </svg>\n",
              "      </button>\n",
              "      \n",
              "  <style>\n",
              "    .colab-df-container {\n",
              "      display:flex;\n",
              "      flex-wrap:wrap;\n",
              "      gap: 12px;\n",
              "    }\n",
              "\n",
              "    .colab-df-convert {\n",
              "      background-color: #E8F0FE;\n",
              "      border: none;\n",
              "      border-radius: 50%;\n",
              "      cursor: pointer;\n",
              "      display: none;\n",
              "      fill: #1967D2;\n",
              "      height: 32px;\n",
              "      padding: 0 0 0 0;\n",
              "      width: 32px;\n",
              "    }\n",
              "\n",
              "    .colab-df-convert:hover {\n",
              "      background-color: #E2EBFA;\n",
              "      box-shadow: 0px 1px 2px rgba(60, 64, 67, 0.3), 0px 1px 3px 1px rgba(60, 64, 67, 0.15);\n",
              "      fill: #174EA6;\n",
              "    }\n",
              "\n",
              "    [theme=dark] .colab-df-convert {\n",
              "      background-color: #3B4455;\n",
              "      fill: #D2E3FC;\n",
              "    }\n",
              "\n",
              "    [theme=dark] .colab-df-convert:hover {\n",
              "      background-color: #434B5C;\n",
              "      box-shadow: 0px 1px 3px 1px rgba(0, 0, 0, 0.15);\n",
              "      filter: drop-shadow(0px 1px 2px rgba(0, 0, 0, 0.3));\n",
              "      fill: #FFFFFF;\n",
              "    }\n",
              "  </style>\n",
              "\n",
              "      <script>\n",
              "        const buttonEl =\n",
              "          document.querySelector('#df-d2edd13a-5aac-4870-bf40-7e07ae84300b button.colab-df-convert');\n",
              "        buttonEl.style.display =\n",
              "          google.colab.kernel.accessAllowed ? 'block' : 'none';\n",
              "\n",
              "        async function convertToInteractive(key) {\n",
              "          const element = document.querySelector('#df-d2edd13a-5aac-4870-bf40-7e07ae84300b');\n",
              "          const dataTable =\n",
              "            await google.colab.kernel.invokeFunction('convertToInteractive',\n",
              "                                                     [key], {});\n",
              "          if (!dataTable) return;\n",
              "\n",
              "          const docLinkHtml = 'Like what you see? Visit the ' +\n",
              "            '<a target=\"_blank\" href=https://colab.research.google.com/notebooks/data_table.ipynb>data table notebook</a>'\n",
              "            + ' to learn more about interactive tables.';\n",
              "          element.innerHTML = '';\n",
              "          dataTable['output_type'] = 'display_data';\n",
              "          await google.colab.output.renderOutput(dataTable, element);\n",
              "          const docLink = document.createElement('div');\n",
              "          docLink.innerHTML = docLinkHtml;\n",
              "          element.appendChild(docLink);\n",
              "        }\n",
              "      </script>\n",
              "    </div>\n",
              "  </div>\n",
              "  "
            ]
          },
          "metadata": {},
          "execution_count": 13
        }
      ],
      "source": [
        "df_renamed.head()"
      ]
    },
    {
      "cell_type": "markdown",
      "metadata": {
        "id": "ffuCr3HkIKZ1"
      },
      "source": [
        "###**District**"
      ]
    },
    {
      "cell_type": "code",
      "execution_count": 14,
      "metadata": {
        "id": "ON_tC2CQvGQc"
      },
      "outputs": [],
      "source": [
        "df_renamed['district'] = df_renamed['district'].str.replace('Phước bình ', '').str.strip()\n",
        "df_renamed['district'] = df_renamed['district'].str.replace('Thân Văn Nhiếp ', '').str.strip()\n",
        "df_renamed['district'] = df_renamed['district'].str.replace('Đường số 5 ', '').str.strip()"
      ]
    },
    {
      "cell_type": "markdown",
      "metadata": {
        "id": "TyC_pzenIdxZ"
      },
      "source": [
        "###**Num_floors**"
      ]
    },
    {
      "cell_type": "code",
      "execution_count": 15,
      "metadata": {
        "id": "LGS6Mojo802W"
      },
      "outputs": [],
      "source": [
        "df_renamed['num_floors'] = df_renamed['num_floors'].astype(int)"
      ]
    },
    {
      "cell_type": "markdown",
      "metadata": {
        "id": "2LusTkyXIhaa"
      },
      "source": [
        "###**Num_beds**"
      ]
    },
    {
      "cell_type": "code",
      "execution_count": 16,
      "metadata": {
        "id": "hPybU0Qz82ae"
      },
      "outputs": [],
      "source": [
        "df_renamed['num_bed_rooms'] = df_renamed['num_bed_rooms'].astype(int)"
      ]
    },
    {
      "cell_type": "markdown",
      "metadata": {
        "id": "H-GBQoRNIkp3"
      },
      "source": [
        "###**Square_meter_area**"
      ]
    },
    {
      "cell_type": "code",
      "execution_count": 17,
      "metadata": {
        "id": "JmZkLP7f84g3"
      },
      "outputs": [],
      "source": [
        "df_renamed['squared_meter_area'] = df_renamed['squared_meter_area'].str.replace(' m2','').str.strip().astype(float)"
      ]
    },
    {
      "cell_type": "markdown",
      "metadata": {
        "id": "e-GftZD7Ipeb"
      },
      "source": [
        "###**Length**"
      ]
    },
    {
      "cell_type": "code",
      "execution_count": 18,
      "metadata": {
        "id": "zwlLT6N185-v"
      },
      "outputs": [],
      "source": [
        "df_renamed['length_meter'] = df_renamed['length_meter'].str.replace('m','').str.strip()"
      ]
    },
    {
      "cell_type": "code",
      "execution_count": 19,
      "metadata": {
        "id": "D9TzS4bOAYsw"
      },
      "outputs": [],
      "source": [
        "df_renamed['length_meter'] = df_renamed['length_meter'].str.replace(',','.').str.strip()"
      ]
    },
    {
      "cell_type": "code",
      "execution_count": 20,
      "metadata": {
        "id": "4yWLAT9-Jf5s"
      },
      "outputs": [],
      "source": [
        "list_erro = ['E p', '16+', '18..4', '0', '12..5', '17 5']"
      ]
    },
    {
      "cell_type": "code",
      "execution_count": 21,
      "metadata": {
        "id": "At2Jh1mTJpTV"
      },
      "outputs": [],
      "source": [
        "for i in list_erro:\n",
        "  df_renamed.drop(df_renamed[df_renamed['length_meter'] == i ].index, inplace=True)"
      ]
    },
    {
      "cell_type": "code",
      "execution_count": 22,
      "metadata": {
        "id": "mN5L5tfMAnB3"
      },
      "outputs": [],
      "source": [
        "df_renamed['length_meter']  = df_renamed['length_meter'].astype(float)"
      ]
    },
    {
      "cell_type": "markdown",
      "metadata": {
        "id": "n0sfop8NIx-R"
      },
      "source": [
        "###**Width**"
      ]
    },
    {
      "cell_type": "code",
      "execution_count": 23,
      "metadata": {
        "id": "DT321lfnG9H8"
      },
      "outputs": [],
      "source": [
        "df_renamed['width_meter'] = df_renamed['width_meter'].str.replace(',','.').str.strip()"
      ]
    },
    {
      "cell_type": "code",
      "execution_count": 24,
      "metadata": {
        "id": "Z_yOLbTVOZHa"
      },
      "outputs": [],
      "source": [
        "df_renamed['width_meter'] = df_renamed['width_meter'].str.replace('m','').str.strip()"
      ]
    },
    {
      "cell_type": "code",
      "execution_count": 25,
      "metadata": {
        "id": "nrKFao_WLNJ8"
      },
      "outputs": [],
      "source": [
        "list_erro1 = ['4(nh L8)', '4.5(nh6)', '4.2(nhà.', '4/4.6', '6.6/7.3', '4/12', '7/10', '4.1/8', '3.1/4', '6/7.5', '4 2', '.6.6', '4.2/8', '05']"
      ]
    },
    {
      "cell_type": "code",
      "execution_count": 26,
      "metadata": {
        "id": "xZgy64GM87YP"
      },
      "outputs": [],
      "source": [
        "for i in list_erro1:\n",
        "  df_renamed.drop(df_renamed[df_renamed['width_meter'] == i ].index, inplace=True)"
      ]
    },
    {
      "cell_type": "code",
      "execution_count": 27,
      "metadata": {
        "id": "6kbsH7dKMRPy"
      },
      "outputs": [],
      "source": [
        "df_renamed['width_meter'] = df_renamed['width_meter'].astype(float)"
      ]
    },
    {
      "cell_type": "markdown",
      "metadata": {
        "id": "271-Soz2JDjn"
      },
      "source": [
        "###**Price_in_million**"
      ]
    },
    {
      "cell_type": "code",
      "execution_count": 28,
      "metadata": {
        "id": "TmSan4xmRf1j"
      },
      "outputs": [],
      "source": [
        "df_renamed['price'] = df_renamed['price'].str.replace(',','.').str.strip()"
      ]
    },
    {
      "cell_type": "code",
      "execution_count": 29,
      "metadata": {
        "id": "LPo156a2KUoz"
      },
      "outputs": [],
      "source": [
        "df_renamed = df_renamed[df_renamed[\"price\"].str.contains(\"/\\xa0m2\\xa0\\xa0\")==False]"
      ]
    },
    {
      "cell_type": "code",
      "execution_count": 30,
      "metadata": {
        "id": "wjxGbgfhaqX_"
      },
      "outputs": [],
      "source": [
        "df_renamed = df_renamed[df_renamed[\"price\"].str.contains(\"/\\xa0m2\")==False]"
      ]
    },
    {
      "cell_type": "code",
      "execution_count": 31,
      "metadata": {
        "id": "1Wvuej-Ua0J_"
      },
      "outputs": [],
      "source": [
        "error_list3 = ['999.999 tỷ', '25 tỷ 68 ngàn', 'Thỏa thuận', '49 ngàn', '14 ngàn']"
      ]
    },
    {
      "cell_type": "code",
      "execution_count": 32,
      "metadata": {
        "id": "aQdx3CR4bQMX"
      },
      "outputs": [],
      "source": [
        "for i in error_list3:\n",
        "  df_renamed.drop(df_renamed[df_renamed['price'] == i ].index, inplace=True)"
      ]
    },
    {
      "cell_type": "code",
      "execution_count": 33,
      "metadata": {
        "id": "r01EK9V06M8g"
      },
      "outputs": [],
      "source": [
        "# Clean and convert all prices to million/m2 instead of VND/m2 or billion/m2\n",
        "df_renamed.loc[df_renamed['price'].str.contains('tỷ'), 'price'] = df_renamed.loc[df_renamed['price'].str.contains('tỷ'), 'price'].str.replace('tỷ','').astype(float) * 1000\n",
        "df_renamed.loc[df_renamed['price'].str.contains('triệu', na=False), 'price'] = df_renamed.loc[df_renamed['price'].str.contains('triệu', na=False), 'price'].str.replace('triệu','').astype(float)"
      ]
    },
    {
      "cell_type": "code",
      "execution_count": 34,
      "metadata": {
        "id": "aepWPAkAcOTH"
      },
      "outputs": [],
      "source": [
        "df_renamed['price'] = df_renamed['price'].astype(float)"
      ]
    },
    {
      "cell_type": "code",
      "execution_count": 35,
      "metadata": {
        "colab": {
          "base_uri": "https://localhost:8080/",
          "height": 250
        },
        "id": "Vixl_aU7bynr",
        "outputId": "04b4de7d-d6a6-4d56-c644-f89406786465"
      },
      "outputs": [
        {
          "output_type": "execute_result",
          "data": {
            "text/plain": [
              "   index           district type_of_housing     legal_paper  num_floors  \\\n",
              "0      0   Huyện Bình Chánh    Nhà mặt tiền  Sổ hồng/ Sổ đỏ           1   \n",
              "1      6  Thành phố Thủ Đức    Nhà mặt tiền   Không có giấy           3   \n",
              "2      8  Thành phố Thủ Đức    Nhà mặt tiền  Sổ hồng/ Sổ đỏ           4   \n",
              "3     11  Thành phố Thủ Đức   Nhà trong hẻm  Sổ hồng/ Sổ đỏ           3   \n",
              "4     14   Huyện Bình Chánh    Nhà mặt tiền   Không có giấy           1   \n",
              "\n",
              "   num_bed_rooms  squared_meter_area  length_meter  width_meter   price  \n",
              "0              4               100.0          20.0          5.0  1200.0  \n",
              "1              4                55.0          11.0          5.0  7000.0  \n",
              "2              4                72.0          14.0          5.0  9200.0  \n",
              "3              3                73.0          12.0          6.6  4990.0  \n",
              "4              4               100.0          20.0          5.0  1000.0  "
            ],
            "text/html": [
              "\n",
              "  <div id=\"df-2bb1e89d-c792-4ff2-b581-114b08fa54b1\">\n",
              "    <div class=\"colab-df-container\">\n",
              "      <div>\n",
              "<style scoped>\n",
              "    .dataframe tbody tr th:only-of-type {\n",
              "        vertical-align: middle;\n",
              "    }\n",
              "\n",
              "    .dataframe tbody tr th {\n",
              "        vertical-align: top;\n",
              "    }\n",
              "\n",
              "    .dataframe thead th {\n",
              "        text-align: right;\n",
              "    }\n",
              "</style>\n",
              "<table border=\"1\" class=\"dataframe\">\n",
              "  <thead>\n",
              "    <tr style=\"text-align: right;\">\n",
              "      <th></th>\n",
              "      <th>index</th>\n",
              "      <th>district</th>\n",
              "      <th>type_of_housing</th>\n",
              "      <th>legal_paper</th>\n",
              "      <th>num_floors</th>\n",
              "      <th>num_bed_rooms</th>\n",
              "      <th>squared_meter_area</th>\n",
              "      <th>length_meter</th>\n",
              "      <th>width_meter</th>\n",
              "      <th>price</th>\n",
              "    </tr>\n",
              "  </thead>\n",
              "  <tbody>\n",
              "    <tr>\n",
              "      <th>0</th>\n",
              "      <td>0</td>\n",
              "      <td>Huyện Bình Chánh</td>\n",
              "      <td>Nhà mặt tiền</td>\n",
              "      <td>Sổ hồng/ Sổ đỏ</td>\n",
              "      <td>1</td>\n",
              "      <td>4</td>\n",
              "      <td>100.0</td>\n",
              "      <td>20.0</td>\n",
              "      <td>5.0</td>\n",
              "      <td>1200.0</td>\n",
              "    </tr>\n",
              "    <tr>\n",
              "      <th>1</th>\n",
              "      <td>6</td>\n",
              "      <td>Thành phố Thủ Đức</td>\n",
              "      <td>Nhà mặt tiền</td>\n",
              "      <td>Không có giấy</td>\n",
              "      <td>3</td>\n",
              "      <td>4</td>\n",
              "      <td>55.0</td>\n",
              "      <td>11.0</td>\n",
              "      <td>5.0</td>\n",
              "      <td>7000.0</td>\n",
              "    </tr>\n",
              "    <tr>\n",
              "      <th>2</th>\n",
              "      <td>8</td>\n",
              "      <td>Thành phố Thủ Đức</td>\n",
              "      <td>Nhà mặt tiền</td>\n",
              "      <td>Sổ hồng/ Sổ đỏ</td>\n",
              "      <td>4</td>\n",
              "      <td>4</td>\n",
              "      <td>72.0</td>\n",
              "      <td>14.0</td>\n",
              "      <td>5.0</td>\n",
              "      <td>9200.0</td>\n",
              "    </tr>\n",
              "    <tr>\n",
              "      <th>3</th>\n",
              "      <td>11</td>\n",
              "      <td>Thành phố Thủ Đức</td>\n",
              "      <td>Nhà trong hẻm</td>\n",
              "      <td>Sổ hồng/ Sổ đỏ</td>\n",
              "      <td>3</td>\n",
              "      <td>3</td>\n",
              "      <td>73.0</td>\n",
              "      <td>12.0</td>\n",
              "      <td>6.6</td>\n",
              "      <td>4990.0</td>\n",
              "    </tr>\n",
              "    <tr>\n",
              "      <th>4</th>\n",
              "      <td>14</td>\n",
              "      <td>Huyện Bình Chánh</td>\n",
              "      <td>Nhà mặt tiền</td>\n",
              "      <td>Không có giấy</td>\n",
              "      <td>1</td>\n",
              "      <td>4</td>\n",
              "      <td>100.0</td>\n",
              "      <td>20.0</td>\n",
              "      <td>5.0</td>\n",
              "      <td>1000.0</td>\n",
              "    </tr>\n",
              "  </tbody>\n",
              "</table>\n",
              "</div>\n",
              "      <button class=\"colab-df-convert\" onclick=\"convertToInteractive('df-2bb1e89d-c792-4ff2-b581-114b08fa54b1')\"\n",
              "              title=\"Convert this dataframe to an interactive table.\"\n",
              "              style=\"display:none;\">\n",
              "        \n",
              "  <svg xmlns=\"http://www.w3.org/2000/svg\" height=\"24px\"viewBox=\"0 0 24 24\"\n",
              "       width=\"24px\">\n",
              "    <path d=\"M0 0h24v24H0V0z\" fill=\"none\"/>\n",
              "    <path d=\"M18.56 5.44l.94 2.06.94-2.06 2.06-.94-2.06-.94-.94-2.06-.94 2.06-2.06.94zm-11 1L8.5 8.5l.94-2.06 2.06-.94-2.06-.94L8.5 2.5l-.94 2.06-2.06.94zm10 10l.94 2.06.94-2.06 2.06-.94-2.06-.94-.94-2.06-.94 2.06-2.06.94z\"/><path d=\"M17.41 7.96l-1.37-1.37c-.4-.4-.92-.59-1.43-.59-.52 0-1.04.2-1.43.59L10.3 9.45l-7.72 7.72c-.78.78-.78 2.05 0 2.83L4 21.41c.39.39.9.59 1.41.59.51 0 1.02-.2 1.41-.59l7.78-7.78 2.81-2.81c.8-.78.8-2.07 0-2.86zM5.41 20L4 18.59l7.72-7.72 1.47 1.35L5.41 20z\"/>\n",
              "  </svg>\n",
              "      </button>\n",
              "      \n",
              "  <style>\n",
              "    .colab-df-container {\n",
              "      display:flex;\n",
              "      flex-wrap:wrap;\n",
              "      gap: 12px;\n",
              "    }\n",
              "\n",
              "    .colab-df-convert {\n",
              "      background-color: #E8F0FE;\n",
              "      border: none;\n",
              "      border-radius: 50%;\n",
              "      cursor: pointer;\n",
              "      display: none;\n",
              "      fill: #1967D2;\n",
              "      height: 32px;\n",
              "      padding: 0 0 0 0;\n",
              "      width: 32px;\n",
              "    }\n",
              "\n",
              "    .colab-df-convert:hover {\n",
              "      background-color: #E2EBFA;\n",
              "      box-shadow: 0px 1px 2px rgba(60, 64, 67, 0.3), 0px 1px 3px 1px rgba(60, 64, 67, 0.15);\n",
              "      fill: #174EA6;\n",
              "    }\n",
              "\n",
              "    [theme=dark] .colab-df-convert {\n",
              "      background-color: #3B4455;\n",
              "      fill: #D2E3FC;\n",
              "    }\n",
              "\n",
              "    [theme=dark] .colab-df-convert:hover {\n",
              "      background-color: #434B5C;\n",
              "      box-shadow: 0px 1px 3px 1px rgba(0, 0, 0, 0.15);\n",
              "      filter: drop-shadow(0px 1px 2px rgba(0, 0, 0, 0.3));\n",
              "      fill: #FFFFFF;\n",
              "    }\n",
              "  </style>\n",
              "\n",
              "      <script>\n",
              "        const buttonEl =\n",
              "          document.querySelector('#df-2bb1e89d-c792-4ff2-b581-114b08fa54b1 button.colab-df-convert');\n",
              "        buttonEl.style.display =\n",
              "          google.colab.kernel.accessAllowed ? 'block' : 'none';\n",
              "\n",
              "        async function convertToInteractive(key) {\n",
              "          const element = document.querySelector('#df-2bb1e89d-c792-4ff2-b581-114b08fa54b1');\n",
              "          const dataTable =\n",
              "            await google.colab.kernel.invokeFunction('convertToInteractive',\n",
              "                                                     [key], {});\n",
              "          if (!dataTable) return;\n",
              "\n",
              "          const docLinkHtml = 'Like what you see? Visit the ' +\n",
              "            '<a target=\"_blank\" href=https://colab.research.google.com/notebooks/data_table.ipynb>data table notebook</a>'\n",
              "            + ' to learn more about interactive tables.';\n",
              "          element.innerHTML = '';\n",
              "          dataTable['output_type'] = 'display_data';\n",
              "          await google.colab.output.renderOutput(dataTable, element);\n",
              "          const docLink = document.createElement('div');\n",
              "          docLink.innerHTML = docLinkHtml;\n",
              "          element.appendChild(docLink);\n",
              "        }\n",
              "      </script>\n",
              "    </div>\n",
              "  </div>\n",
              "  "
            ]
          },
          "metadata": {},
          "execution_count": 35
        }
      ],
      "source": [
        "df_renamed.head()"
      ]
    },
    {
      "cell_type": "code",
      "execution_count": 36,
      "metadata": {
        "id": "-qo0gMlqp0lT"
      },
      "outputs": [],
      "source": [
        "df_renamed.drop('index',axis=1, inplace=True)"
      ]
    },
    {
      "cell_type": "code",
      "execution_count": 37,
      "metadata": {
        "colab": {
          "base_uri": "https://localhost:8080/"
        },
        "id": "5bntkuZGb1fY",
        "outputId": "bc20bafb-5f5a-4193-9ec2-7e0150750b57"
      },
      "outputs": [
        {
          "output_type": "stream",
          "name": "stdout",
          "text": [
            "<class 'pandas.core.frame.DataFrame'>\n",
            "Int64Index: 13951 entries, 0 to 14098\n",
            "Data columns (total 9 columns):\n",
            " #   Column              Non-Null Count  Dtype  \n",
            "---  ------              --------------  -----  \n",
            " 0   district            13951 non-null  object \n",
            " 1   type_of_housing     13951 non-null  object \n",
            " 2   legal_paper         13951 non-null  object \n",
            " 3   num_floors          13951 non-null  int64  \n",
            " 4   num_bed_rooms       13951 non-null  int64  \n",
            " 5   squared_meter_area  13951 non-null  float64\n",
            " 6   length_meter        13951 non-null  float64\n",
            " 7   width_meter         13951 non-null  float64\n",
            " 8   price               13951 non-null  float64\n",
            "dtypes: float64(4), int64(2), object(3)\n",
            "memory usage: 1.1+ MB\n"
          ]
        }
      ],
      "source": [
        "df_renamed.info()"
      ]
    },
    {
      "cell_type": "markdown",
      "metadata": {
        "id": "3_BreBouf0hF"
      },
      "source": [
        "# **Step 4: Checking For Categorical**"
      ]
    },
    {
      "cell_type": "code",
      "execution_count": 38,
      "metadata": {
        "colab": {
          "base_uri": "https://localhost:8080/"
        },
        "id": "uc6l9c0IgnAd",
        "outputId": "a4b3e2e2-9d42-44b1-d5d1-7a446eb9bfb9"
      },
      "outputs": [
        {
          "output_type": "stream",
          "name": "stdout",
          "text": [
            "\n",
            "Name of Column is: district and unique values are: ['Huyện Bình Chánh' 'Thành phố Thủ Đức' 'Quận Tân Phú' 'Quận Bình Thạnh'\n",
            " 'Quận 12' 'Quận Bình Tân' 'Quận 1' 'Quận Gò Vấp' 'Quận 10' 'Quận 9'\n",
            " 'Quận 7' 'Quận Tân Bình' 'Quận 8' 'Quận 3' 'Huyện Hóc Môn'\n",
            " 'Quận Phú Nhuận' 'Quận 4' 'Quận 11' 'Quận 6' 'Quận 2' 'Huyện Nhà Bè'\n",
            " 'Huyện Củ Chi' 'Quận 5']\n",
            "\n",
            "Name of Column is: type_of_housing and unique values are: ['Nhà mặt tiền' 'Nhà trong hẻm' 'Căn hộ chung cư' 'Biệt thự, nhà liền kề'\n",
            " 'Nhà hàng, khách sạn' 'Phòng trọ, nhà trọ' 'Đất thổ cư, đất ở'\n",
            " 'Văn phòng' 'Kho, xưởng' 'Đất nền, liền kề, đất dự án' 'Mặt bằng'\n",
            " 'Shop, kiot, quán']\n",
            "\n",
            "Name of Column is: legal_paper and unique values are: ['Sổ hồng/ Sổ đỏ' 'Không có giấy' 'Giấy tờ hợp lệ' 'Giấy phép KD']\n",
            "\n",
            "\n",
            "\n",
            "\n",
            "\n",
            "\n"
          ]
        }
      ],
      "source": [
        "for col in df_renamed.columns:\n",
        "    print()\n",
        "    if df_renamed[col].dtype == 'object':\n",
        "        print(f'Name of Column is: {col} and unique values are: {df_renamed[col].unique()}')"
      ]
    },
    {
      "cell_type": "markdown",
      "metadata": {
        "id": "Ut1bl1t5oiE1"
      },
      "source": [
        "#**Step 5: Data PreProcessing And Visualizations**"
      ]
    },
    {
      "cell_type": "code",
      "execution_count": 39,
      "metadata": {
        "id": "kWtHvvE9oDqS"
      },
      "outputs": [],
      "source": [
        "#this function returns categorical variables\n",
        "def return_categorical(df):\n",
        "  categorical_columns = [column_name for column_name in df if df[column_name].dtype == 'O']\n",
        "  return categorical_columns\n",
        "\n",
        "#this function returns numerical variables\n",
        "def return_numerical(df):\n",
        "  return list(set(df.columns) - set(return_categorical(df)))\n",
        "\n",
        "def check_normal(df):\n",
        "  fig, axes = plt.subplots(1,len(return_numerical(df)), figsize =(70, 10))\n",
        "  for i,numeric_column_name in enumerate(list(set(df.columns) -set(return_categorical(df)))):\n",
        "    sns.distplot(df[numeric_column_name], ax=axes[i]);\n",
        "    plt.title(f'Distribution of {numeric_column_name}');"
      ]
    },
    {
      "cell_type": "markdown",
      "metadata": {
        "id": "aPSouiUHTbM7"
      },
      "source": [
        "##**Checking Distribution For Continuous Variables**"
      ]
    },
    {
      "cell_type": "code",
      "execution_count": 40,
      "metadata": {
        "colab": {
          "base_uri": "https://localhost:8080/",
          "height": 415
        },
        "id": "FkMVxr94pEbS",
        "outputId": "cce4da8c-e413-48b7-b682-723972e70f27"
      },
      "outputs": [
        {
          "output_type": "stream",
          "name": "stderr",
          "text": [
            "/usr/local/lib/python3.7/dist-packages/seaborn/distributions.py:2619: FutureWarning: `distplot` is a deprecated function and will be removed in a future version. Please adapt your code to use either `displot` (a figure-level function with similar flexibility) or `histplot` (an axes-level function for histograms).\n",
            "  warnings.warn(msg, FutureWarning)\n",
            "/usr/local/lib/python3.7/dist-packages/seaborn/distributions.py:2619: FutureWarning: `distplot` is a deprecated function and will be removed in a future version. Please adapt your code to use either `displot` (a figure-level function with similar flexibility) or `histplot` (an axes-level function for histograms).\n",
            "  warnings.warn(msg, FutureWarning)\n",
            "/usr/local/lib/python3.7/dist-packages/seaborn/distributions.py:2619: FutureWarning: `distplot` is a deprecated function and will be removed in a future version. Please adapt your code to use either `displot` (a figure-level function with similar flexibility) or `histplot` (an axes-level function for histograms).\n",
            "  warnings.warn(msg, FutureWarning)\n",
            "/usr/local/lib/python3.7/dist-packages/seaborn/distributions.py:2619: FutureWarning: `distplot` is a deprecated function and will be removed in a future version. Please adapt your code to use either `displot` (a figure-level function with similar flexibility) or `histplot` (an axes-level function for histograms).\n",
            "  warnings.warn(msg, FutureWarning)\n",
            "/usr/local/lib/python3.7/dist-packages/seaborn/distributions.py:2619: FutureWarning: `distplot` is a deprecated function and will be removed in a future version. Please adapt your code to use either `displot` (a figure-level function with similar flexibility) or `histplot` (an axes-level function for histograms).\n",
            "  warnings.warn(msg, FutureWarning)\n",
            "/usr/local/lib/python3.7/dist-packages/seaborn/distributions.py:2619: FutureWarning: `distplot` is a deprecated function and will be removed in a future version. Please adapt your code to use either `displot` (a figure-level function with similar flexibility) or `histplot` (an axes-level function for histograms).\n",
            "  warnings.warn(msg, FutureWarning)\n"
          ]
        },
        {
          "output_type": "display_data",
          "data": {
            "text/plain": [
              "<Figure size 5040x720 with 6 Axes>"
            ],
            "image/png": "[encoded data removed]"
          },
          "metadata": {
            "needs_background": "light"
          }
        }
      ],
      "source": [
        "check_normal(df_renamed)"
      ]
    },
    {
      "cell_type": "markdown",
      "metadata": {
        "id": "pgcNxAWysTMz"
      },
      "source": [
        "##**Plots For Categorical Variables**"
      ]
    },
    {
      "cell_type": "code",
      "execution_count": 41,
      "metadata": {
        "colab": {
          "base_uri": "https://localhost:8080/",
          "height": 621
        },
        "id": "bPUb-HWEpSSP",
        "outputId": "51c4db7a-391d-4598-86b7-505ffdc73545"
      },
      "outputs": [
        {
          "output_type": "display_data",
          "data": {
            "text/plain": [
              "<Figure size 720x720 with 6 Axes>"
            ],
            "image/png": "[encoded data removed]"
          },
          "metadata": {
            "needs_background": "light"
          }
        }
      ],
      "source": [
        "header = ['num_floors','num_bed_rooms', 'squared_meter_area', 'length_meter', 'width_meter','price']\n",
        "df_renamed.hist(column=header,figsize=(10,10))\n",
        "plt.subplots_adjust(wspace = 0.5, hspace = 0.5)\n",
        "plt.show()"
      ]
    },
    {
      "cell_type": "code",
      "execution_count": 42,
      "metadata": {
        "colab": {
          "base_uri": "https://localhost:8080/",
          "height": 1000
        },
        "id": "hIYd2Az_quw8",
        "outputId": "82c01ff9-4123-41ab-ce29-45c8ad3f6e7e"
      },
      "outputs": [
        {
          "output_type": "display_data",
          "data": {
            "text/plain": [
              "<Figure size 360x216 with 1 Axes>"
            ],
            "image/png": "[encoded data removed]"
          },
          "metadata": {
            "needs_background": "light"
          }
        },
        {
          "output_type": "display_data",
          "data": {
            "text/plain": [
              "<Figure size 360x216 with 1 Axes>"
            ],
            "image/png": "[encoded data removed]"
          },
          "metadata": {
            "needs_background": "light"
          }
        },
        {
          "output_type": "display_data",
          "data": {
            "text/plain": [
              "<Figure size 360x216 with 1 Axes>"
            ],
            "image/png": "[encoded data removed]"
          },
          "metadata": {
            "needs_background": "light"
          }
        }
      ],
      "source": [
        "# plotting graphs for all categorical columns\n",
        "for col in return_categorical(df_renamed):\n",
        "    counts = df_renamed[col].value_counts().sort_index()\n",
        "    if len(counts) > 10:\n",
        "      fig = plt.figure(figsize=(5, 3))\n",
        "    else:\n",
        "      fig = plt.figure(figsize=(5, 3))\n",
        "    ax = fig.gca()\n",
        "    counts.plot.bar(ax = ax, color='steelblue')\n",
        "    ax.set_title(col + ' counts',fontsize=20)\n",
        "    ax.set_xlabel(col, fontsize=20) \n",
        "    ax.set_ylabel(\"Frequency\", fontsize=20)\n",
        "plt.show()"
      ]
    },
    {
      "cell_type": "markdown",
      "metadata": {
        "id": "fucKvROOtvDx"
      },
      "source": [
        "=> Dữ liệu ở những Quận này khá ít, không đủ tin cậy để huấn luyện, nên nhóm tiến hành drop bỏ để tránh những trường hợp dự đoán sai lệch"
      ]
    },
    {
      "cell_type": "code",
      "execution_count": 43,
      "metadata": {
        "colab": {
          "base_uri": "https://localhost:8080/"
        },
        "id": "b6Td_KjrtByz",
        "outputId": "6f304e20-04ec-4c62-fc14-9a935c17ac9c"
      },
      "outputs": [
        {
          "output_type": "stream",
          "name": "stdout",
          "text": [
            "Huyện Bình Chánh\n",
            "55\n",
            "Thành phố Thủ Đức\n",
            "683\n",
            "Quận Tân Phú\n",
            "1050\n",
            "Quận Bình Thạnh\n",
            "1725\n",
            "Quận 12\n",
            "448\n",
            "Quận Bình Tân\n",
            "409\n",
            "Quận 1\n",
            "699\n",
            "Quận Gò Vấp\n",
            "2203\n",
            "Quận 10\n",
            "978\n",
            "Quận 9\n",
            "16\n",
            "Quận 7\n",
            "679\n",
            "Quận Tân Bình\n",
            "1931\n",
            "Quận 8\n",
            "257\n",
            "Quận 3\n",
            "741\n",
            "Huyện Hóc Môn\n",
            "105\n",
            "Quận Phú Nhuận\n",
            "927\n",
            "Quận 4\n",
            "249\n",
            "Quận 11\n",
            "215\n",
            "Quận 6\n",
            "228\n",
            "Quận 2\n",
            "90\n",
            "Huyện Nhà Bè\n",
            "78\n",
            "Huyện Củ Chi\n",
            "9\n",
            "Quận 5\n",
            "176\n"
          ]
        }
      ],
      "source": [
        "l = df_renamed['district'].unique()\n",
        "for i in l:\n",
        "  print(i)\n",
        "  print(df_renamed['district'][df_renamed['district'] == i].count())"
      ]
    },
    {
      "cell_type": "code",
      "execution_count": 44,
      "metadata": {
        "id": "eoYk6eSht05o"
      },
      "outputs": [],
      "source": [
        "#df_renamed.drop(df_renamed[df_renamed['district'] == 'Quận 9'].index, inplace = True)"
      ]
    },
    {
      "cell_type": "code",
      "execution_count": 45,
      "metadata": {
        "id": "sUCz5UBlt51t"
      },
      "outputs": [],
      "source": [
        "#df_renamed.drop(df_renamed[df_renamed['district'] == 'Huyện Củ Chi'].index, inplace = True)"
      ]
    },
    {
      "cell_type": "code",
      "execution_count": 46,
      "metadata": {
        "colab": {
          "base_uri": "https://localhost:8080/"
        },
        "id": "A3AOqXJZt6hQ",
        "outputId": "310d0759-cf2a-42f2-af2b-710679594f67"
      },
      "outputs": [
        {
          "output_type": "stream",
          "name": "stdout",
          "text": [
            "Nhà mặt tiền\n",
            "6447\n",
            "Nhà trong hẻm\n",
            "6525\n",
            "Căn hộ chung cư\n",
            "58\n",
            "Biệt thự, nhà liền kề\n",
            "674\n",
            "Nhà hàng, khách sạn\n",
            "74\n",
            "Phòng trọ, nhà trọ\n",
            "58\n",
            "Đất thổ cư, đất ở\n",
            "54\n",
            "Văn phòng\n",
            "29\n",
            "Kho, xưởng\n",
            "26\n",
            "Đất nền, liền kề, đất dự án\n",
            "3\n",
            "Mặt bằng\n",
            "1\n",
            "Shop, kiot, quán\n",
            "2\n"
          ]
        }
      ],
      "source": [
        "l = df_renamed['type_of_housing'].unique()\n",
        "for i in l:\n",
        "  print(i)\n",
        "  print(df_renamed['district'][df_renamed['type_of_housing'] == i].count())"
      ]
    },
    {
      "cell_type": "code",
      "execution_count": 47,
      "metadata": {
        "id": "Z0nsRz8vt6Li"
      },
      "outputs": [],
      "source": [
        "df_renamed.drop(df_renamed[df_renamed['type_of_housing'] == 'Mặt bằng'].index, inplace = True)"
      ]
    },
    {
      "cell_type": "code",
      "execution_count": 48,
      "metadata": {
        "id": "CHcAYt2MuAw3"
      },
      "outputs": [],
      "source": [
        "df_renamed.drop(df_renamed[df_renamed['type_of_housing'] == 'Shop, kiot, quán'].index, inplace = True)"
      ]
    },
    {
      "cell_type": "code",
      "execution_count": 49,
      "metadata": {
        "id": "6QTictEwuBHo"
      },
      "outputs": [],
      "source": [
        "df_renamed.drop(df_renamed[df_renamed['type_of_housing'] == 'Đất nền, liền kề, đất dự án'].index, inplace = True)"
      ]
    },
    {
      "cell_type": "code",
      "execution_count": 50,
      "metadata": {
        "id": "SoS3MlBAGR1V"
      },
      "outputs": [],
      "source": [
        "#df_renamed.drop(df_renamed[df_renamed['type_of_housing'] == 'Kho, xưởng'].index, inplace = True)"
      ]
    },
    {
      "cell_type": "code",
      "execution_count": 51,
      "metadata": {
        "id": "Jp_my1aqGXBJ"
      },
      "outputs": [],
      "source": [
        "#df_renamed.drop(df_renamed[df_renamed['type_of_housing'] == 'Văn phòng'].index, inplace = True)"
      ]
    },
    {
      "cell_type": "code",
      "execution_count": 52,
      "metadata": {
        "id": "j0klpgO6GigO"
      },
      "outputs": [],
      "source": [
        "#df_renamed.drop(df_renamed[df_renamed['type_of_housing'] == 'Đất thổ cư, đất ở'].index, inplace = True)"
      ]
    },
    {
      "cell_type": "code",
      "execution_count": 53,
      "metadata": {
        "id": "glVKZOKtGu2y"
      },
      "outputs": [],
      "source": [
        "#df_renamed.drop(df_renamed[df_renamed['type_of_housing'] == 'Phòng trọ, nhà trọ'].index, inplace = True)"
      ]
    },
    {
      "cell_type": "code",
      "execution_count": 54,
      "metadata": {
        "id": "6nkCG8y5G2Iz"
      },
      "outputs": [],
      "source": [
        "#df_renamed.drop(df_renamed[df_renamed['type_of_housing'] == 'Căn hộ chung cư'].index, inplace = True)"
      ]
    },
    {
      "cell_type": "code",
      "execution_count": 55,
      "metadata": {
        "id": "SyUgpFZiG7Lu"
      },
      "outputs": [],
      "source": [
        "#df_renamed.drop(df_renamed[df_renamed['type_of_housing'] == 'Nhà hàng, khách sạn'].index, inplace = True)"
      ]
    },
    {
      "cell_type": "code",
      "execution_count": 56,
      "metadata": {
        "colab": {
          "base_uri": "https://localhost:8080/"
        },
        "id": "xvVWilJluBaA",
        "outputId": "4d7af187-16d1-4341-f980-861cfdd1ffba"
      },
      "outputs": [
        {
          "output_type": "stream",
          "name": "stdout",
          "text": [
            "Sổ hồng/ Sổ đỏ\n",
            "10060\n",
            "Không có giấy\n",
            "3749\n",
            "Giấy tờ hợp lệ\n",
            "135\n",
            "Giấy phép KD\n",
            "1\n"
          ]
        }
      ],
      "source": [
        "l = df_renamed['legal_paper'].unique()\n",
        "for i in l:\n",
        "  print(i)\n",
        "  print(df_renamed['district'][df_renamed['legal_paper'] == i].count())"
      ]
    },
    {
      "cell_type": "code",
      "execution_count": 57,
      "metadata": {
        "id": "TAYWv6FvuBt4"
      },
      "outputs": [],
      "source": [
        "df_renamed.drop(df_renamed[df_renamed['legal_paper'] == 'Giấy phép KD'].index, inplace = True)"
      ]
    },
    {
      "cell_type": "markdown",
      "metadata": {
        "id": "JNI7qQwIsaWy"
      },
      "source": [
        "##**Checking For Highly Correlated Columns**"
      ]
    },
    {
      "cell_type": "code",
      "execution_count": 58,
      "metadata": {
        "colab": {
          "base_uri": "https://localhost:8080/",
          "height": 237
        },
        "id": "5YIy4pzLrCY7",
        "outputId": "907ac6ed-6f44-46ce-dd2b-280de5a9712f"
      },
      "outputs": [
        {
          "output_type": "execute_result",
          "data": {
            "text/plain": [
              "                    num_floors  num_bed_rooms  squared_meter_area  \\\n",
              "num_floors                 1.0            NaN                 NaN   \n",
              "num_bed_rooms              NaN            1.0                 NaN   \n",
              "squared_meter_area         NaN            NaN                 1.0   \n",
              "length_meter               NaN            NaN                 NaN   \n",
              "width_meter                NaN            NaN                 NaN   \n",
              "price                      NaN            NaN                 NaN   \n",
              "\n",
              "                    length_meter  width_meter  price  \n",
              "num_floors                   NaN          NaN    NaN  \n",
              "num_bed_rooms                NaN          NaN    NaN  \n",
              "squared_meter_area           NaN          NaN    NaN  \n",
              "length_meter                 1.0          NaN    NaN  \n",
              "width_meter                  NaN          1.0    NaN  \n",
              "price                        NaN          NaN    1.0  "
            ],
            "text/html": [
              "\n",
              "  <div id=\"df-06b72b7e-546e-47d2-8fa8-d14a26ac130d\">\n",
              "    <div class=\"colab-df-container\">\n",
              "      <div>\n",
              "<style scoped>\n",
              "    .dataframe tbody tr th:only-of-type {\n",
              "        vertical-align: middle;\n",
              "    }\n",
              "\n",
              "    .dataframe tbody tr th {\n",
              "        vertical-align: top;\n",
              "    }\n",
              "\n",
              "    .dataframe thead th {\n",
              "        text-align: right;\n",
              "    }\n",
              "</style>\n",
              "<table border=\"1\" class=\"dataframe\">\n",
              "  <thead>\n",
              "    <tr style=\"text-align: right;\">\n",
              "      <th></th>\n",
              "      <th>num_floors</th>\n",
              "      <th>num_bed_rooms</th>\n",
              "      <th>squared_meter_area</th>\n",
              "      <th>length_meter</th>\n",
              "      <th>width_meter</th>\n",
              "      <th>price</th>\n",
              "    </tr>\n",
              "  </thead>\n",
              "  <tbody>\n",
              "    <tr>\n",
              "      <th>num_floors</th>\n",
              "      <td>1.0</td>\n",
              "      <td>NaN</td>\n",
              "      <td>NaN</td>\n",
              "      <td>NaN</td>\n",
              "      <td>NaN</td>\n",
              "      <td>NaN</td>\n",
              "    </tr>\n",
              "    <tr>\n",
              "      <th>num_bed_rooms</th>\n",
              "      <td>NaN</td>\n",
              "      <td>1.0</td>\n",
              "      <td>NaN</td>\n",
              "      <td>NaN</td>\n",
              "      <td>NaN</td>\n",
              "      <td>NaN</td>\n",
              "    </tr>\n",
              "    <tr>\n",
              "      <th>squared_meter_area</th>\n",
              "      <td>NaN</td>\n",
              "      <td>NaN</td>\n",
              "      <td>1.0</td>\n",
              "      <td>NaN</td>\n",
              "      <td>NaN</td>\n",
              "      <td>NaN</td>\n",
              "    </tr>\n",
              "    <tr>\n",
              "      <th>length_meter</th>\n",
              "      <td>NaN</td>\n",
              "      <td>NaN</td>\n",
              "      <td>NaN</td>\n",
              "      <td>1.0</td>\n",
              "      <td>NaN</td>\n",
              "      <td>NaN</td>\n",
              "    </tr>\n",
              "    <tr>\n",
              "      <th>width_meter</th>\n",
              "      <td>NaN</td>\n",
              "      <td>NaN</td>\n",
              "      <td>NaN</td>\n",
              "      <td>NaN</td>\n",
              "      <td>1.0</td>\n",
              "      <td>NaN</td>\n",
              "    </tr>\n",
              "    <tr>\n",
              "      <th>price</th>\n",
              "      <td>NaN</td>\n",
              "      <td>NaN</td>\n",
              "      <td>NaN</td>\n",
              "      <td>NaN</td>\n",
              "      <td>NaN</td>\n",
              "      <td>1.0</td>\n",
              "    </tr>\n",
              "  </tbody>\n",
              "</table>\n",
              "</div>\n",
              "      <button class=\"colab-df-convert\" onclick=\"convertToInteractive('df-06b72b7e-546e-47d2-8fa8-d14a26ac130d')\"\n",
              "              title=\"Convert this dataframe to an interactive table.\"\n",
              "              style=\"display:none;\">\n",
              "        \n",
              "  <svg xmlns=\"http://www.w3.org/2000/svg\" height=\"24px\"viewBox=\"0 0 24 24\"\n",
              "       width=\"24px\">\n",
              "    <path d=\"M0 0h24v24H0V0z\" fill=\"none\"/>\n",
              "    <path d=\"M18.56 5.44l.94 2.06.94-2.06 2.06-.94-2.06-.94-.94-2.06-.94 2.06-2.06.94zm-11 1L8.5 8.5l.94-2.06 2.06-.94-2.06-.94L8.5 2.5l-.94 2.06-2.06.94zm10 10l.94 2.06.94-2.06 2.06-.94-2.06-.94-.94-2.06-.94 2.06-2.06.94z\"/><path d=\"M17.41 7.96l-1.37-1.37c-.4-.4-.92-.59-1.43-.59-.52 0-1.04.2-1.43.59L10.3 9.45l-7.72 7.72c-.78.78-.78 2.05 0 2.83L4 21.41c.39.39.9.59 1.41.59.51 0 1.02-.2 1.41-.59l7.78-7.78 2.81-2.81c.8-.78.8-2.07 0-2.86zM5.41 20L4 18.59l7.72-7.72 1.47 1.35L5.41 20z\"/>\n",
              "  </svg>\n",
              "      </button>\n",
              "      \n",
              "  <style>\n",
              "    .colab-df-container {\n",
              "      display:flex;\n",
              "      flex-wrap:wrap;\n",
              "      gap: 12px;\n",
              "    }\n",
              "\n",
              "    .colab-df-convert {\n",
              "      background-color: #E8F0FE;\n",
              "      border: none;\n",
              "      border-radius: 50%;\n",
              "      cursor: pointer;\n",
              "      display: none;\n",
              "      fill: #1967D2;\n",
              "      height: 32px;\n",
              "      padding: 0 0 0 0;\n",
              "      width: 32px;\n",
              "    }\n",
              "\n",
              "    .colab-df-convert:hover {\n",
              "      background-color: #E2EBFA;\n",
              "      box-shadow: 0px 1px 2px rgba(60, 64, 67, 0.3), 0px 1px 3px 1px rgba(60, 64, 67, 0.15);\n",
              "      fill: #174EA6;\n",
              "    }\n",
              "\n",
              "    [theme=dark] .colab-df-convert {\n",
              "      background-color: #3B4455;\n",
              "      fill: #D2E3FC;\n",
              "    }\n",
              "\n",
              "    [theme=dark] .colab-df-convert:hover {\n",
              "      background-color: #434B5C;\n",
              "      box-shadow: 0px 1px 3px 1px rgba(0, 0, 0, 0.15);\n",
              "      filter: drop-shadow(0px 1px 2px rgba(0, 0, 0, 0.3));\n",
              "      fill: #FFFFFF;\n",
              "    }\n",
              "  </style>\n",
              "\n",
              "      <script>\n",
              "        const buttonEl =\n",
              "          document.querySelector('#df-06b72b7e-546e-47d2-8fa8-d14a26ac130d button.colab-df-convert');\n",
              "        buttonEl.style.display =\n",
              "          google.colab.kernel.accessAllowed ? 'block' : 'none';\n",
              "\n",
              "        async function convertToInteractive(key) {\n",
              "          const element = document.querySelector('#df-06b72b7e-546e-47d2-8fa8-d14a26ac130d');\n",
              "          const dataTable =\n",
              "            await google.colab.kernel.invokeFunction('convertToInteractive',\n",
              "                                                     [key], {});\n",
              "          if (!dataTable) return;\n",
              "\n",
              "          const docLinkHtml = 'Like what you see? Visit the ' +\n",
              "            '<a target=\"_blank\" href=https://colab.research.google.com/notebooks/data_table.ipynb>data table notebook</a>'\n",
              "            + ' to learn more about interactive tables.';\n",
              "          element.innerHTML = '';\n",
              "          dataTable['output_type'] = 'display_data';\n",
              "          await google.colab.output.renderOutput(dataTable, element);\n",
              "          const docLink = document.createElement('div');\n",
              "          docLink.innerHTML = docLinkHtml;\n",
              "          element.appendChild(docLink);\n",
              "        }\n",
              "      </script>\n",
              "    </div>\n",
              "  </div>\n",
              "  "
            ]
          },
          "metadata": {},
          "execution_count": 58
        }
      ],
      "source": [
        "corr = df_renamed.corr()\n",
        "corr_greater_than_75 = corr[corr>=.75]\n",
        "#corr_greater_than_75 = corr\n",
        "corr_greater_than_75 "
      ]
    },
    {
      "cell_type": "code",
      "execution_count": 59,
      "metadata": {
        "colab": {
          "base_uri": "https://localhost:8080/",
          "height": 579
        },
        "id": "IxwmXu2drXUt",
        "outputId": "04d9d755-1b11-47a5-d61e-1d050e62f5fe"
      },
      "outputs": [
        {
          "output_type": "display_data",
          "data": {
            "text/plain": [
              "<Figure size 864x576 with 2 Axes>"
            ],
            "image/png": "[encoded data removed]"
          },
          "metadata": {
            "needs_background": "light"
          }
        }
      ],
      "source": [
        "plt.figure(figsize=(12,8))\n",
        "sns.heatmap(corr_greater_than_75, cmap=\"Reds\", annot = True);"
      ]
    },
    {
      "cell_type": "markdown",
      "metadata": {
        "id": "ZfjxoaXslOwt"
      },
      "source": [
        "##**Removing outliers using IQR method**"
      ]
    },
    {
      "cell_type": "code",
      "execution_count": 60,
      "metadata": {
        "colab": {
          "base_uri": "https://localhost:8080/"
        },
        "id": "LjxtI6DelSRs",
        "outputId": "068824e9-9b99-4139-b130-4e332418ddfa"
      },
      "outputs": [
        {
          "output_type": "stream",
          "name": "stdout",
          "text": [
            "The final length of the dataset is 9400 rows.\n"
          ]
        }
      ],
      "source": [
        "def remove_outlier_IQR(df, series):\n",
        "    Q1=df[series].quantile(0.25)\n",
        "    Q3=df[series].quantile(0.75)\n",
        "    IQR=Q3-Q1\n",
        "    df_final=df[~((df[series]<(Q1-1.5*IQR)) | (df[series]>(Q3+1.5*IQR)))]\n",
        "    return df_final\n",
        "\n",
        "removed_outliers = df_renamed\n",
        "columns_to_remove_outliers = ['num_floors', 'num_bed_rooms', 'squared_meter_area', 'length_meter',\n",
        "                              'width_meter', 'price']\n",
        "for column in columns_to_remove_outliers:\n",
        "    removed_outliers = remove_outlier_IQR(removed_outliers, column)\n",
        "    \n",
        "print(\"The final length of the dataset is\", str(len(removed_outliers)), \"rows.\")"
      ]
    },
    {
      "cell_type": "code",
      "execution_count": 61,
      "metadata": {
        "colab": {
          "base_uri": "https://localhost:8080/",
          "height": 424
        },
        "id": "Wy5ZwqGHXPRc",
        "outputId": "700b1b00-39ba-4e83-c21f-e0e36af2e090"
      },
      "outputs": [
        {
          "output_type": "execute_result",
          "data": {
            "text/plain": [
              "                district type_of_housing     legal_paper  num_floors  \\\n",
              "0       Huyện Bình Chánh    Nhà mặt tiền  Sổ hồng/ Sổ đỏ           1   \n",
              "1      Thành phố Thủ Đức    Nhà mặt tiền   Không có giấy           3   \n",
              "2      Thành phố Thủ Đức    Nhà mặt tiền  Sổ hồng/ Sổ đỏ           4   \n",
              "3      Thành phố Thủ Đức   Nhà trong hẻm  Sổ hồng/ Sổ đỏ           3   \n",
              "4       Huyện Bình Chánh    Nhà mặt tiền   Không có giấy           1   \n",
              "...                  ...             ...             ...         ...   \n",
              "14093            Quận 10   Nhà trong hẻm   Không có giấy           5   \n",
              "14094            Quận 10   Nhà trong hẻm   Không có giấy           1   \n",
              "14096     Quận Phú Nhuận    Nhà mặt tiền   Không có giấy           6   \n",
              "14097     Quận Phú Nhuận   Nhà trong hẻm   Không có giấy           2   \n",
              "14098      Quận Tân Bình   Nhà trong hẻm   Không có giấy           4   \n",
              "\n",
              "       num_bed_rooms  squared_meter_area  length_meter  width_meter    price  \n",
              "0                  4               100.0          20.0          5.0   1200.0  \n",
              "1                  4                55.0          11.0          5.0   7000.0  \n",
              "2                  4                72.0          14.0          5.0   9200.0  \n",
              "3                  3                73.0          12.0          6.6   4990.0  \n",
              "4                  4               100.0          20.0          5.0   1000.0  \n",
              "...              ...                 ...           ...          ...      ...  \n",
              "14093             10                80.0          18.0          5.5  16000.0  \n",
              "14094              1               110.0          24.0          5.0  25000.0  \n",
              "14096             10                90.0          23.0          4.0  26800.0  \n",
              "14097              3                80.0          16.0          6.0  18000.0  \n",
              "14098              6               110.0          20.0          5.2  19500.0  \n",
              "\n",
              "[9400 rows x 9 columns]"
            ],
            "text/html": [
              "\n",
              "  <div id=\"df-99ab6729-92f7-4165-b0a5-a9e562012967\">\n",
              "    <div class=\"colab-df-container\">\n",
              "      <div>\n",
              "<style scoped>\n",
              "    .dataframe tbody tr th:only-of-type {\n",
              "        vertical-align: middle;\n",
              "    }\n",
              "\n",
              "    .dataframe tbody tr th {\n",
              "        vertical-align: top;\n",
              "    }\n",
              "\n",
              "    .dataframe thead th {\n",
              "        text-align: right;\n",
              "    }\n",
              "</style>\n",
              "<table border=\"1\" class=\"dataframe\">\n",
              "  <thead>\n",
              "    <tr style=\"text-align: right;\">\n",
              "      <th></th>\n",
              "      <th>district</th>\n",
              "      <th>type_of_housing</th>\n",
              "      <th>legal_paper</th>\n",
              "      <th>num_floors</th>\n",
              "      <th>num_bed_rooms</th>\n",
              "      <th>squared_meter_area</th>\n",
              "      <th>length_meter</th>\n",
              "      <th>width_meter</th>\n",
              "      <th>price</th>\n",
              "    </tr>\n",
              "  </thead>\n",
              "  <tbody>\n",
              "    <tr>\n",
              "      <th>0</th>\n",
              "      <td>Huyện Bình Chánh</td>\n",
              "      <td>Nhà mặt tiền</td>\n",
              "      <td>Sổ hồng/ Sổ đỏ</td>\n",
              "      <td>1</td>\n",
              "      <td>4</td>\n",
              "      <td>100.0</td>\n",
              "      <td>20.0</td>\n",
              "      <td>5.0</td>\n",
              "      <td>1200.0</td>\n",
              "    </tr>\n",
              "    <tr>\n",
              "      <th>1</th>\n",
              "      <td>Thành phố Thủ Đức</td>\n",
              "      <td>Nhà mặt tiền</td>\n",
              "      <td>Không có giấy</td>\n",
              "      <td>3</td>\n",
              "      <td>4</td>\n",
              "      <td>55.0</td>\n",
              "      <td>11.0</td>\n",
              "      <td>5.0</td>\n",
              "      <td>7000.0</td>\n",
              "    </tr>\n",
              "    <tr>\n",
              "      <th>2</th>\n",
              "      <td>Thành phố Thủ Đức</td>\n",
              "      <td>Nhà mặt tiền</td>\n",
              "      <td>Sổ hồng/ Sổ đỏ</td>\n",
              "      <td>4</td>\n",
              "      <td>4</td>\n",
              "      <td>72.0</td>\n",
              "      <td>14.0</td>\n",
              "      <td>5.0</td>\n",
              "      <td>9200.0</td>\n",
              "    </tr>\n",
              "    <tr>\n",
              "      <th>3</th>\n",
              "      <td>Thành phố Thủ Đức</td>\n",
              "      <td>Nhà trong hẻm</td>\n",
              "      <td>Sổ hồng/ Sổ đỏ</td>\n",
              "      <td>3</td>\n",
              "      <td>3</td>\n",
              "      <td>73.0</td>\n",
              "      <td>12.0</td>\n",
              "      <td>6.6</td>\n",
              "      <td>4990.0</td>\n",
              "    </tr>\n",
              "    <tr>\n",
              "      <th>4</th>\n",
              "      <td>Huyện Bình Chánh</td>\n",
              "      <td>Nhà mặt tiền</td>\n",
              "      <td>Không có giấy</td>\n",
              "      <td>1</td>\n",
              "      <td>4</td>\n",
              "      <td>100.0</td>\n",
              "      <td>20.0</td>\n",
              "      <td>5.0</td>\n",
              "      <td>1000.0</td>\n",
              "    </tr>\n",
              "    <tr>\n",
              "      <th>...</th>\n",
              "      <td>...</td>\n",
              "      <td>...</td>\n",
              "      <td>...</td>\n",
              "      <td>...</td>\n",
              "      <td>...</td>\n",
              "      <td>...</td>\n",
              "      <td>...</td>\n",
              "      <td>...</td>\n",
              "      <td>...</td>\n",
              "    </tr>\n",
              "    <tr>\n",
              "      <th>14093</th>\n",
              "      <td>Quận 10</td>\n",
              "      <td>Nhà trong hẻm</td>\n",
              "      <td>Không có giấy</td>\n",
              "      <td>5</td>\n",
              "      <td>10</td>\n",
              "      <td>80.0</td>\n",
              "      <td>18.0</td>\n",
              "      <td>5.5</td>\n",
              "      <td>16000.0</td>\n",
              "    </tr>\n",
              "    <tr>\n",
              "      <th>14094</th>\n",
              "      <td>Quận 10</td>\n",
              "      <td>Nhà trong hẻm</td>\n",
              "      <td>Không có giấy</td>\n",
              "      <td>1</td>\n",
              "      <td>1</td>\n",
              "      <td>110.0</td>\n",
              "      <td>24.0</td>\n",
              "      <td>5.0</td>\n",
              "      <td>25000.0</td>\n",
              "    </tr>\n",
              "    <tr>\n",
              "      <th>14096</th>\n",
              "      <td>Quận Phú Nhuận</td>\n",
              "      <td>Nhà mặt tiền</td>\n",
              "      <td>Không có giấy</td>\n",
              "      <td>6</td>\n",
              "      <td>10</td>\n",
              "      <td>90.0</td>\n",
              "      <td>23.0</td>\n",
              "      <td>4.0</td>\n",
              "      <td>26800.0</td>\n",
              "    </tr>\n",
              "    <tr>\n",
              "      <th>14097</th>\n",
              "      <td>Quận Phú Nhuận</td>\n",
              "      <td>Nhà trong hẻm</td>\n",
              "      <td>Không có giấy</td>\n",
              "      <td>2</td>\n",
              "      <td>3</td>\n",
              "      <td>80.0</td>\n",
              "      <td>16.0</td>\n",
              "      <td>6.0</td>\n",
              "      <td>18000.0</td>\n",
              "    </tr>\n",
              "    <tr>\n",
              "      <th>14098</th>\n",
              "      <td>Quận Tân Bình</td>\n",
              "      <td>Nhà trong hẻm</td>\n",
              "      <td>Không có giấy</td>\n",
              "      <td>4</td>\n",
              "      <td>6</td>\n",
              "      <td>110.0</td>\n",
              "      <td>20.0</td>\n",
              "      <td>5.2</td>\n",
              "      <td>19500.0</td>\n",
              "    </tr>\n",
              "  </tbody>\n",
              "</table>\n",
              "<p>9400 rows × 9 columns</p>\n",
              "</div>\n",
              "      <button class=\"colab-df-convert\" onclick=\"convertToInteractive('df-99ab6729-92f7-4165-b0a5-a9e562012967')\"\n",
              "              title=\"Convert this dataframe to an interactive table.\"\n",
              "              style=\"display:none;\">\n",
              "        \n",
              "  <svg xmlns=\"http://www.w3.org/2000/svg\" height=\"24px\"viewBox=\"0 0 24 24\"\n",
              "       width=\"24px\">\n",
              "    <path d=\"M0 0h24v24H0V0z\" fill=\"none\"/>\n",
              "    <path d=\"M18.56 5.44l.94 2.06.94-2.06 2.06-.94-2.06-.94-.94-2.06-.94 2.06-2.06.94zm-11 1L8.5 8.5l.94-2.06 2.06-.94-2.06-.94L8.5 2.5l-.94 2.06-2.06.94zm10 10l.94 2.06.94-2.06 2.06-.94-2.06-.94-.94-2.06-.94 2.06-2.06.94z\"/><path d=\"M17.41 7.96l-1.37-1.37c-.4-.4-.92-.59-1.43-.59-.52 0-1.04.2-1.43.59L10.3 9.45l-7.72 7.72c-.78.78-.78 2.05 0 2.83L4 21.41c.39.39.9.59 1.41.59.51 0 1.02-.2 1.41-.59l7.78-7.78 2.81-2.81c.8-.78.8-2.07 0-2.86zM5.41 20L4 18.59l7.72-7.72 1.47 1.35L5.41 20z\"/>\n",
              "  </svg>\n",
              "      </button>\n",
              "      \n",
              "  <style>\n",
              "    .colab-df-container {\n",
              "      display:flex;\n",
              "      flex-wrap:wrap;\n",
              "      gap: 12px;\n",
              "    }\n",
              "\n",
              "    .colab-df-convert {\n",
              "      background-color: #E8F0FE;\n",
              "      border: none;\n",
              "      border-radius: 50%;\n",
              "      cursor: pointer;\n",
              "      display: none;\n",
              "      fill: #1967D2;\n",
              "      height: 32px;\n",
              "      padding: 0 0 0 0;\n",
              "      width: 32px;\n",
              "    }\n",
              "\n",
              "    .colab-df-convert:hover {\n",
              "      background-color: #E2EBFA;\n",
              "      box-shadow: 0px 1px 2px rgba(60, 64, 67, 0.3), 0px 1px 3px 1px rgba(60, 64, 67, 0.15);\n",
              "      fill: #174EA6;\n",
              "    }\n",
              "\n",
              "    [theme=dark] .colab-df-convert {\n",
              "      background-color: #3B4455;\n",
              "      fill: #D2E3FC;\n",
              "    }\n",
              "\n",
              "    [theme=dark] .colab-df-convert:hover {\n",
              "      background-color: #434B5C;\n",
              "      box-shadow: 0px 1px 3px 1px rgba(0, 0, 0, 0.15);\n",
              "      filter: drop-shadow(0px 1px 2px rgba(0, 0, 0, 0.3));\n",
              "      fill: #FFFFFF;\n",
              "    }\n",
              "  </style>\n",
              "\n",
              "      <script>\n",
              "        const buttonEl =\n",
              "          document.querySelector('#df-99ab6729-92f7-4165-b0a5-a9e562012967 button.colab-df-convert');\n",
              "        buttonEl.style.display =\n",
              "          google.colab.kernel.accessAllowed ? 'block' : 'none';\n",
              "\n",
              "        async function convertToInteractive(key) {\n",
              "          const element = document.querySelector('#df-99ab6729-92f7-4165-b0a5-a9e562012967');\n",
              "          const dataTable =\n",
              "            await google.colab.kernel.invokeFunction('convertToInteractive',\n",
              "                                                     [key], {});\n",
              "          if (!dataTable) return;\n",
              "\n",
              "          const docLinkHtml = 'Like what you see? Visit the ' +\n",
              "            '<a target=\"_blank\" href=https://colab.research.google.com/notebooks/data_table.ipynb>data table notebook</a>'\n",
              "            + ' to learn more about interactive tables.';\n",
              "          element.innerHTML = '';\n",
              "          dataTable['output_type'] = 'display_data';\n",
              "          await google.colab.output.renderOutput(dataTable, element);\n",
              "          const docLink = document.createElement('div');\n",
              "          docLink.innerHTML = docLinkHtml;\n",
              "          element.appendChild(docLink);\n",
              "        }\n",
              "      </script>\n",
              "    </div>\n",
              "  </div>\n",
              "  "
            ]
          },
          "metadata": {},
          "execution_count": 61
        }
      ],
      "source": [
        "removed_outliers"
      ]
    },
    {
      "cell_type": "code",
      "execution_count": 62,
      "metadata": {
        "colab": {
          "base_uri": "https://localhost:8080/"
        },
        "id": "kQ3lOQ6KMEF3",
        "outputId": "03a3a4d6-01c0-4ac8-fb99-09474f181906"
      },
      "outputs": [
        {
          "output_type": "stream",
          "name": "stdout",
          "text": [
            "<class 'pandas.core.frame.DataFrame'>\n",
            "Int64Index: 9400 entries, 0 to 14098\n",
            "Data columns (total 9 columns):\n",
            " #   Column              Non-Null Count  Dtype  \n",
            "---  ------              --------------  -----  \n",
            " 0   district            9400 non-null   object \n",
            " 1   type_of_housing     9400 non-null   object \n",
            " 2   legal_paper         9400 non-null   object \n",
            " 3   num_floors          9400 non-null   int64  \n",
            " 4   num_bed_rooms       9400 non-null   int64  \n",
            " 5   squared_meter_area  9400 non-null   float64\n",
            " 6   length_meter        9400 non-null   float64\n",
            " 7   width_meter         9400 non-null   float64\n",
            " 8   price               9400 non-null   float64\n",
            "dtypes: float64(4), int64(2), object(3)\n",
            "memory usage: 734.4+ KB\n"
          ]
        }
      ],
      "source": [
        "removed_outliers.info()"
      ]
    },
    {
      "cell_type": "markdown",
      "metadata": {
        "id": "Tnn2P5M9k6-m"
      },
      "source": [
        "#**Step6: Building Model**"
      ]
    },
    {
      "cell_type": "code",
      "execution_count": 63,
      "metadata": {
        "id": "dFWzvoX_fEIe"
      },
      "outputs": [],
      "source": [
        "from sklearn.preprocessing import  OneHotEncoder, StandardScaler\n",
        "from sklearn.ensemble import RandomForestRegressor\n",
        "from sklearn.model_selection import train_test_split\n",
        "from sklearn.pipeline import make_pipeline\n",
        "from sklearn.compose import make_column_transformer\n",
        "from sklearn.model_selection import RandomizedSearchCV\n",
        "from sklearn.linear_model import LinearRegression\n",
        "from sklearn.svm import SVR\n",
        "from sklearn.tree import DecisionTreeRegressor"
      ]
    },
    {
      "cell_type": "code",
      "execution_count": 64,
      "metadata": {
        "id": "mo4LbdQ1Xl9P"
      },
      "outputs": [],
      "source": [
        "housing = removed_outliers\n",
        "\n",
        "# Separate predictors and response (price) variables\n",
        "X = housing.loc[:, housing.columns != 'price']\n",
        "y = housing[['price']]"
      ]
    },
    {
      "cell_type": "code",
      "execution_count": 65,
      "metadata": {
        "id": "FWZ-dIKLYHrG"
      },
      "outputs": [],
      "source": [
        "X_train, X_test, y_train, y_test = train_test_split(X, y, test_size=0.1,random_state=True)"
      ]
    },
    {
      "cell_type": "code",
      "execution_count": 66,
      "metadata": {
        "colab": {
          "base_uri": "https://localhost:8080/"
        },
        "id": "EVEVrEBeqfIc",
        "outputId": "f2bb540a-cb09-4ba9-b1d0-87956705c3a0"
      },
      "outputs": [
        {
          "output_type": "execute_result",
          "data": {
            "text/plain": [
              "((8460, 8), (8460, 1))"
            ]
          },
          "metadata": {},
          "execution_count": 66
        }
      ],
      "source": [
        "X_train.shape, y_train.shape"
      ]
    },
    {
      "cell_type": "code",
      "execution_count": 67,
      "metadata": {
        "colab": {
          "base_uri": "https://localhost:8080/"
        },
        "id": "_HtB44Q8qniD",
        "outputId": "2483c60a-ff79-4739-e4c8-08d7a23a954d"
      },
      "outputs": [
        {
          "output_type": "execute_result",
          "data": {
            "text/plain": [
              "((940, 8), (940, 1))"
            ]
          },
          "metadata": {},
          "execution_count": 67
        }
      ],
      "source": [
        "X_test.shape, y_test.shape"
      ]
    },
    {
      "cell_type": "markdown",
      "metadata": {
        "id": "BBiET5NGYERq"
      },
      "source": [
        "###**Class Training Model**"
      ]
    },
    {
      "cell_type": "code",
      "execution_count": 68,
      "metadata": {
        "id": "gYP-PkVDEV5P"
      },
      "outputs": [],
      "source": [
        "import xgboost"
      ]
    },
    {
      "cell_type": "code",
      "execution_count": 69,
      "metadata": {
        "id": "FPG3YwkdaikH"
      },
      "outputs": [],
      "source": [
        "class TrainModel:\n",
        "  \"\"\"\n",
        "    Class TrainModel dùng để xây dựng model dự đoán với input là tập dữ liệu đã chia \n",
        "    và các model bao gồm RandomForest, Linear Regression, Support Vector Regressor, Decision Tree\n",
        "    Output là model và score(độ chính xác của model).  \n",
        "    Class Trainmodel gồm các hàm thành phần:\n",
        "        + Hàm __init__(): \n",
        "              -- contructor khởi tạo các mô hình định (RF, LR, SVR, DT); \n",
        "              -- các param mẫu (param_RF) cho việc thực hiện Gridsearch;\n",
        "              -- column_trans: encode label trong các cột\n",
        "              -- scaler: chuẩn hóa dữ liệu với Standard Scaler\n",
        "              -- X_train, X_test, y_train, y_test: các trường dữ liệu phân chia trước khi vào huấn luyện\n",
        "        + Hàm makepipe(): tạo hệ thống pipe xử lý song song việc encol label model và train model\n",
        "        + Hàm RandomForest(): xây dựng mô hình hồi quy RandomForest\n",
        "        + Hàm LinearReg(): xây dựng mô hình hồi quy LinearRegression\n",
        "        + Hàm SupportVectorReg(): xây dựng mô hình hồi quy SVR\n",
        "        + Hàm DecisionTree(): xây dựng mô hình hồi quy DT\n",
        "        + Hàm GridSearch(): dùng công cụ hộ trợ sklearn.GridSearchCV() tuning cho mô hình với tập param mẫu trên toàn bộ dữ liệu train, tìm ra param tốt nhất cho mô hình (best_param_) và score(best_score).\n",
        "\n",
        "  \"\"\"\n",
        "  def __init__(self,X_train, X_test, y_train, y_test):\n",
        "    self.RF = RandomForestRegressor()\n",
        "    self.LR =  LinearRegression()\n",
        "    self.SVR = SVR(C=5000.0, epsilon=1)\n",
        "    self.DT = DecisionTreeRegressor()\n",
        "    self.xgboost = xgboost.XGBRegressor()\n",
        "    # param mẫu RandomForest cho GridSearch() \n",
        "    self.param_RF = {'n_estimators': [397,398,399,400,401,402],\n",
        "               'max_features': ['sqrt'],\n",
        "               'max_depth': [38,39,40,41,42],\n",
        "               'min_samples_split': [1,2],\n",
        "               'min_samples_leaf': [1,2]}\n",
        "\n",
        "    self.param_DT = {\n",
        "        'criterion' : ['squared_error' , 'friedman_mse', 'absolute_error', 'poisson'],\n",
        "        'min_samples_split': [1,2,3,4,5],\n",
        "        'min_samples_leaf': [1,2,3,4,5]}\n",
        "\n",
        "    #encoder label \n",
        "    self.column_trans = make_column_transformer((OneHotEncoder(sparse=False),['district']),\n",
        "                                       (OneHotEncoder(sparse=False),['type_of_housing']),\n",
        "                                       (OneHotEncoder(sparse=False),['legal_paper']),\n",
        "                                       remainder='passthrough')\n",
        "    self.scaler = StandardScaler()\n",
        "    self.X_train = X_train \n",
        "    self.X_test = X_test\n",
        "    self.y_train = y_train\n",
        "    self.y_test= y_test\n",
        "\n",
        "  def makepipe(self,model):\n",
        "    pipe = make_pipeline(self.column_trans,self.scaler,model)\n",
        "    return pipe\n",
        "  def RandomForest(self):\n",
        "    pipe = self.makepipe(self.RF)\n",
        "    pipe.fit(self.X_train,self.y_train)  \n",
        "    y_predict = pipe.predict(self.X_test)  \n",
        "    return pipe,r2_score(self.y_test,y_predict)\n",
        "  def LinearReg(self):\n",
        "    pipe = self.makepipe(self.LR)\n",
        "    pipe.fit(self.X_train,self.y_train)  \n",
        "    y_predict = pipe.predict(self.X_test)  \n",
        "    return pipe,r2_score(self.y_test,y_predict)\n",
        "  def SupportVectorReg(self):\n",
        "    pipe = self.makepipe(self.SVR)\n",
        "    pipe.fit(self.X_train,self.y_train)  \n",
        "    y_predict = pipe.predict(self.X_test)  \n",
        "    return pipe,r2_score(self.y_test,y_predict)\n",
        "  def DecisionTree(self):\n",
        "    pipe = self.makepipe(self.DT)\n",
        "    pipe.fit(self.X_train,self.y_train)  \n",
        "    y_predict = pipe.predict(self.X_test)  \n",
        "    return pipe,r2_score(self.y_test,y_predict)\n",
        "  def Xgboost(self):\n",
        "    pipe = self.makepipe(self.xgboost)\n",
        "    pipe.fit(self.X_train,self.y_train)  \n",
        "    y_predict = pipe.predict(self.X_test)  \n",
        "    return pipe, r2_score(self.y_test,y_predict)\n",
        "    \n",
        "  def GridSearch(self, name):\n",
        "    if name == 'Random Forest':\n",
        "      Grid = self.makepipe(GridSearchCV(estimator=self.RF, param_grid=self.param_RF, \n",
        "                              cv=3, verbose=0))\n",
        "      Grid_search = Grid.fit(self.X_train, np.array(self.y_train).ravel())\n",
        "    elif name == 'Decision Tree':\n",
        "      Grid = self.makepipe(GridSearchCV(estimator=self.DT, param_grid=self.param_DT, \n",
        "                              cv=3, verbose=0))\n",
        "      Grid_search = Grid.fit(self.X_train, np.array(self.y_train).ravel())\n",
        "      \n",
        "    model = self.makepipe(Grid_search[2].best_estimator_).fit(self.X_train, np.array(self.y_train).ravel())\n",
        "    y_predict = model.predict(self.X_test)\n",
        "    return Grid_search, model, r2_score(self.y_test,y_predict)\n",
        "    "
      ]
    },
    {
      "cell_type": "markdown",
      "metadata": {
        "id": "VslfT3h7esWR"
      },
      "source": [
        "###**Modeling**"
      ]
    },
    {
      "cell_type": "code",
      "execution_count": 70,
      "metadata": {
        "id": "lmgaHqbkeqn_"
      },
      "outputs": [],
      "source": [
        "model = TrainModel(X_train, X_test, y_train, y_test)"
      ]
    },
    {
      "cell_type": "code",
      "source": [
        "model.X_train"
      ],
      "metadata": {
        "colab": {
          "base_uri": "https://localhost:8080/",
          "height": 424
        },
        "id": "jt_ACJhge55g",
        "outputId": "dd4972ff-36bd-4c88-ca6e-b8e484e0cf3d"
      },
      "execution_count": 71,
      "outputs": [
        {
          "output_type": "execute_result",
          "data": {
            "text/plain": [
              "              district type_of_housing     legal_paper  num_floors  \\\n",
              "8998           Quận 11   Nhà trong hẻm   Không có giấy           2   \n",
              "3673           Quận 10   Nhà trong hẻm  Sổ hồng/ Sổ đỏ           1   \n",
              "10667    Quận Tân Bình    Nhà mặt tiền   Không có giấy           3   \n",
              "5279   Quận Bình Thạnh    Nhà mặt tiền  Sổ hồng/ Sổ đỏ           2   \n",
              "10938     Quận Tân Phú   Nhà trong hẻm  Sổ hồng/ Sổ đỏ           5   \n",
              "...                ...             ...             ...         ...   \n",
              "4314       Quận Gò Vấp   Nhà trong hẻm  Sổ hồng/ Sổ đỏ           2   \n",
              "11284          Quận 10    Nhà mặt tiền  Sổ hồng/ Sổ đỏ           3   \n",
              "1366     Quận Bình Tân   Nhà trong hẻm  Sổ hồng/ Sổ đỏ           1   \n",
              "7623           Quận 10   Nhà trong hẻm  Sổ hồng/ Sổ đỏ           1   \n",
              "321      Quận Tân Bình    Nhà mặt tiền  Sổ hồng/ Sổ đỏ           5   \n",
              "\n",
              "       num_bed_rooms  squared_meter_area  length_meter  width_meter  \n",
              "8998               2                60.0          15.0          4.0  \n",
              "3673               2               100.0          20.0          5.0  \n",
              "10667              4                80.0          20.0          4.0  \n",
              "5279               2                80.0          11.0          4.5  \n",
              "10938              4               114.0          17.5          6.0  \n",
              "...              ...                 ...           ...          ...  \n",
              "4314               2                60.0          15.0          4.0  \n",
              "11284              4               100.0           9.0          4.0  \n",
              "1366               2                48.0          12.0          4.0  \n",
              "7623               3                50.0          15.0          3.5  \n",
              "321                4                77.0          14.0          5.5  \n",
              "\n",
              "[8460 rows x 8 columns]"
            ],
            "text/html": [
              "\n",
              "  <div id=\"df-12937efb-e344-4a48-8e42-6d9b2d79c2a9\">\n",
              "    <div class=\"colab-df-container\">\n",
              "      <div>\n",
              "<style scoped>\n",
              "    .dataframe tbody tr th:only-of-type {\n",
              "        vertical-align: middle;\n",
              "    }\n",
              "\n",
              "    .dataframe tbody tr th {\n",
              "        vertical-align: top;\n",
              "    }\n",
              "\n",
              "    .dataframe thead th {\n",
              "        text-align: right;\n",
              "    }\n",
              "</style>\n",
              "<table border=\"1\" class=\"dataframe\">\n",
              "  <thead>\n",
              "    <tr style=\"text-align: right;\">\n",
              "      <th></th>\n",
              "      <th>district</th>\n",
              "      <th>type_of_housing</th>\n",
              "      <th>legal_paper</th>\n",
              "      <th>num_floors</th>\n",
              "      <th>num_bed_rooms</th>\n",
              "      <th>squared_meter_area</th>\n",
              "      <th>length_meter</th>\n",
              "      <th>width_meter</th>\n",
              "    </tr>\n",
              "  </thead>\n",
              "  <tbody>\n",
              "    <tr>\n",
              "      <th>8998</th>\n",
              "      <td>Quận 11</td>\n",
              "      <td>Nhà trong hẻm</td>\n",
              "      <td>Không có giấy</td>\n",
              "      <td>2</td>\n",
              "      <td>2</td>\n",
              "      <td>60.0</td>\n",
              "      <td>15.0</td>\n",
              "      <td>4.0</td>\n",
              "    </tr>\n",
              "    <tr>\n",
              "      <th>3673</th>\n",
              "      <td>Quận 10</td>\n",
              "      <td>Nhà trong hẻm</td>\n",
              "      <td>Sổ hồng/ Sổ đỏ</td>\n",
              "      <td>1</td>\n",
              "      <td>2</td>\n",
              "      <td>100.0</td>\n",
              "      <td>20.0</td>\n",
              "      <td>5.0</td>\n",
              "    </tr>\n",
              "    <tr>\n",
              "      <th>10667</th>\n",
              "      <td>Quận Tân Bình</td>\n",
              "      <td>Nhà mặt tiền</td>\n",
              "      <td>Không có giấy</td>\n",
              "      <td>3</td>\n",
              "      <td>4</td>\n",
              "      <td>80.0</td>\n",
              "      <td>20.0</td>\n",
              "      <td>4.0</td>\n",
              "    </tr>\n",
              "    <tr>\n",
              "      <th>5279</th>\n",
              "      <td>Quận Bình Thạnh</td>\n",
              "      <td>Nhà mặt tiền</td>\n",
              "      <td>Sổ hồng/ Sổ đỏ</td>\n",
              "      <td>2</td>\n",
              "      <td>2</td>\n",
              "      <td>80.0</td>\n",
              "      <td>11.0</td>\n",
              "      <td>4.5</td>\n",
              "    </tr>\n",
              "    <tr>\n",
              "      <th>10938</th>\n",
              "      <td>Quận Tân Phú</td>\n",
              "      <td>Nhà trong hẻm</td>\n",
              "      <td>Sổ hồng/ Sổ đỏ</td>\n",
              "      <td>5</td>\n",
              "      <td>4</td>\n",
              "      <td>114.0</td>\n",
              "      <td>17.5</td>\n",
              "      <td>6.0</td>\n",
              "    </tr>\n",
              "    <tr>\n",
              "      <th>...</th>\n",
              "      <td>...</td>\n",
              "      <td>...</td>\n",
              "      <td>...</td>\n",
              "      <td>...</td>\n",
              "      <td>...</td>\n",
              "      <td>...</td>\n",
              "      <td>...</td>\n",
              "      <td>...</td>\n",
              "    </tr>\n",
              "    <tr>\n",
              "      <th>4314</th>\n",
              "      <td>Quận Gò Vấp</td>\n",
              "      <td>Nhà trong hẻm</td>\n",
              "      <td>Sổ hồng/ Sổ đỏ</td>\n",
              "      <td>2</td>\n",
              "      <td>2</td>\n",
              "      <td>60.0</td>\n",
              "      <td>15.0</td>\n",
              "      <td>4.0</td>\n",
              "    </tr>\n",
              "    <tr>\n",
              "      <th>11284</th>\n",
              "      <td>Quận 10</td>\n",
              "      <td>Nhà mặt tiền</td>\n",
              "      <td>Sổ hồng/ Sổ đỏ</td>\n",
              "      <td>3</td>\n",
              "      <td>4</td>\n",
              "      <td>100.0</td>\n",
              "      <td>9.0</td>\n",
              "      <td>4.0</td>\n",
              "    </tr>\n",
              "    <tr>\n",
              "      <th>1366</th>\n",
              "      <td>Quận Bình Tân</td>\n",
              "      <td>Nhà trong hẻm</td>\n",
              "      <td>Sổ hồng/ Sổ đỏ</td>\n",
              "      <td>1</td>\n",
              "      <td>2</td>\n",
              "      <td>48.0</td>\n",
              "      <td>12.0</td>\n",
              "      <td>4.0</td>\n",
              "    </tr>\n",
              "    <tr>\n",
              "      <th>7623</th>\n",
              "      <td>Quận 10</td>\n",
              "      <td>Nhà trong hẻm</td>\n",
              "      <td>Sổ hồng/ Sổ đỏ</td>\n",
              "      <td>1</td>\n",
              "      <td>3</td>\n",
              "      <td>50.0</td>\n",
              "      <td>15.0</td>\n",
              "      <td>3.5</td>\n",
              "    </tr>\n",
              "    <tr>\n",
              "      <th>321</th>\n",
              "      <td>Quận Tân Bình</td>\n",
              "      <td>Nhà mặt tiền</td>\n",
              "      <td>Sổ hồng/ Sổ đỏ</td>\n",
              "      <td>5</td>\n",
              "      <td>4</td>\n",
              "      <td>77.0</td>\n",
              "      <td>14.0</td>\n",
              "      <td>5.5</td>\n",
              "    </tr>\n",
              "  </tbody>\n",
              "</table>\n",
              "<p>8460 rows × 8 columns</p>\n",
              "</div>\n",
              "      <button class=\"colab-df-convert\" onclick=\"convertToInteractive('df-12937efb-e344-4a48-8e42-6d9b2d79c2a9')\"\n",
              "              title=\"Convert this dataframe to an interactive table.\"\n",
              "              style=\"display:none;\">\n",
              "        \n",
              "  <svg xmlns=\"http://www.w3.org/2000/svg\" height=\"24px\"viewBox=\"0 0 24 24\"\n",
              "       width=\"24px\">\n",
              "    <path d=\"M0 0h24v24H0V0z\" fill=\"none\"/>\n",
              "    <path d=\"M18.56 5.44l.94 2.06.94-2.06 2.06-.94-2.06-.94-.94-2.06-.94 2.06-2.06.94zm-11 1L8.5 8.5l.94-2.06 2.06-.94-2.06-.94L8.5 2.5l-.94 2.06-2.06.94zm10 10l.94 2.06.94-2.06 2.06-.94-2.06-.94-.94-2.06-.94 2.06-2.06.94z\"/><path d=\"M17.41 7.96l-1.37-1.37c-.4-.4-.92-.59-1.43-.59-.52 0-1.04.2-1.43.59L10.3 9.45l-7.72 7.72c-.78.78-.78 2.05 0 2.83L4 21.41c.39.39.9.59 1.41.59.51 0 1.02-.2 1.41-.59l7.78-7.78 2.81-2.81c.8-.78.8-2.07 0-2.86zM5.41 20L4 18.59l7.72-7.72 1.47 1.35L5.41 20z\"/>\n",
              "  </svg>\n",
              "      </button>\n",
              "      \n",
              "  <style>\n",
              "    .colab-df-container {\n",
              "      display:flex;\n",
              "      flex-wrap:wrap;\n",
              "      gap: 12px;\n",
              "    }\n",
              "\n",
              "    .colab-df-convert {\n",
              "      background-color: #E8F0FE;\n",
              "      border: none;\n",
              "      border-radius: 50%;\n",
              "      cursor: pointer;\n",
              "      display: none;\n",
              "      fill: #1967D2;\n",
              "      height: 32px;\n",
              "      padding: 0 0 0 0;\n",
              "      width: 32px;\n",
              "    }\n",
              "\n",
              "    .colab-df-convert:hover {\n",
              "      background-color: #E2EBFA;\n",
              "      box-shadow: 0px 1px 2px rgba(60, 64, 67, 0.3), 0px 1px 3px 1px rgba(60, 64, 67, 0.15);\n",
              "      fill: #174EA6;\n",
              "    }\n",
              "\n",
              "    [theme=dark] .colab-df-convert {\n",
              "      background-color: #3B4455;\n",
              "      fill: #D2E3FC;\n",
              "    }\n",
              "\n",
              "    [theme=dark] .colab-df-convert:hover {\n",
              "      background-color: #434B5C;\n",
              "      box-shadow: 0px 1px 3px 1px rgba(0, 0, 0, 0.15);\n",
              "      filter: drop-shadow(0px 1px 2px rgba(0, 0, 0, 0.3));\n",
              "      fill: #FFFFFF;\n",
              "    }\n",
              "  </style>\n",
              "\n",
              "      <script>\n",
              "        const buttonEl =\n",
              "          document.querySelector('#df-12937efb-e344-4a48-8e42-6d9b2d79c2a9 button.colab-df-convert');\n",
              "        buttonEl.style.display =\n",
              "          google.colab.kernel.accessAllowed ? 'block' : 'none';\n",
              "\n",
              "        async function convertToInteractive(key) {\n",
              "          const element = document.querySelector('#df-12937efb-e344-4a48-8e42-6d9b2d79c2a9');\n",
              "          const dataTable =\n",
              "            await google.colab.kernel.invokeFunction('convertToInteractive',\n",
              "                                                     [key], {});\n",
              "          if (!dataTable) return;\n",
              "\n",
              "          const docLinkHtml = 'Like what you see? Visit the ' +\n",
              "            '<a target=\"_blank\" href=https://colab.research.google.com/notebooks/data_table.ipynb>data table notebook</a>'\n",
              "            + ' to learn more about interactive tables.';\n",
              "          element.innerHTML = '';\n",
              "          dataTable['output_type'] = 'display_data';\n",
              "          await google.colab.output.renderOutput(dataTable, element);\n",
              "          const docLink = document.createElement('div');\n",
              "          docLink.innerHTML = docLinkHtml;\n",
              "          element.appendChild(docLink);\n",
              "        }\n",
              "      </script>\n",
              "    </div>\n",
              "  </div>\n",
              "  "
            ]
          },
          "metadata": {},
          "execution_count": 71
        }
      ]
    },
    {
      "cell_type": "markdown",
      "metadata": {
        "id": "DHytlGOJBzVP"
      },
      "source": [
        "####**Random Forest**"
      ]
    },
    {
      "cell_type": "code",
      "execution_count": 72,
      "metadata": {
        "colab": {
          "base_uri": "https://localhost:8080/"
        },
        "id": "mrpYxrCFeBqo",
        "outputId": "e16342be-7c19-43de-fd06-4d27d50455d6"
      },
      "outputs": [
        {
          "output_type": "stream",
          "name": "stderr",
          "text": [
            "/usr/local/lib/python3.7/dist-packages/sklearn/pipeline.py:394: DataConversionWarning: A column-vector y was passed when a 1d array was expected. Please change the shape of y to (n_samples,), for example using ravel().\n",
            "  self._final_estimator.fit(Xt, y, **fit_params_last_step)\n"
          ]
        }
      ],
      "source": [
        "pipe_RF,score = model.RandomForest()"
      ]
    },
    {
      "cell_type": "code",
      "execution_count": 73,
      "metadata": {
        "colab": {
          "base_uri": "https://localhost:8080/"
        },
        "id": "BrD7-0O1gxnT",
        "outputId": "8ba90f65-2bc6-420e-fad8-29765a897254"
      },
      "outputs": [
        {
          "output_type": "execute_result",
          "data": {
            "text/plain": [
              "0.9173561557314539"
            ]
          },
          "metadata": {},
          "execution_count": 73
        }
      ],
      "source": [
        "score"
      ]
    },
    {
      "cell_type": "markdown",
      "metadata": {
        "id": "P3UdQ3Ed_COU"
      },
      "source": [
        "####**Linear Regession**"
      ]
    },
    {
      "cell_type": "code",
      "execution_count": 74,
      "metadata": {
        "id": "HpRfFQ24fC6L"
      },
      "outputs": [],
      "source": [
        "pipe_LR,score = model.LinearReg()"
      ]
    },
    {
      "cell_type": "code",
      "execution_count": 75,
      "metadata": {
        "colab": {
          "base_uri": "https://localhost:8080/"
        },
        "id": "AncMbbi_gz8y",
        "outputId": "c879a83b-5392-48a6-cdc8-250184004080"
      },
      "outputs": [
        {
          "output_type": "execute_result",
          "data": {
            "text/plain": [
              "0.7015497453109103"
            ]
          },
          "metadata": {},
          "execution_count": 75
        }
      ],
      "source": [
        "score"
      ]
    },
    {
      "cell_type": "markdown",
      "metadata": {
        "id": "VY9C8Ag6_CX6"
      },
      "source": [
        "####**Support Vector Regressor**"
      ]
    },
    {
      "cell_type": "code",
      "execution_count": 76,
      "metadata": {
        "colab": {
          "base_uri": "https://localhost:8080/"
        },
        "id": "XclBjI7ffOha",
        "outputId": "63e305af-054c-446a-b1a8-3c731b47710b"
      },
      "outputs": [
        {
          "output_type": "stream",
          "name": "stderr",
          "text": [
            "/usr/local/lib/python3.7/dist-packages/sklearn/utils/validation.py:993: DataConversionWarning: A column-vector y was passed when a 1d array was expected. Please change the shape of y to (n_samples, ), for example using ravel().\n",
            "  y = column_or_1d(y, warn=True)\n"
          ]
        }
      ],
      "source": [
        "pipe_SVR,score = model.SupportVectorReg()"
      ]
    },
    {
      "cell_type": "code",
      "execution_count": 77,
      "metadata": {
        "id": "uwrP7cIDg1wH",
        "colab": {
          "base_uri": "https://localhost:8080/"
        },
        "outputId": "a13e248f-e66d-48d6-ae0e-35bb46a01a93"
      },
      "outputs": [
        {
          "output_type": "execute_result",
          "data": {
            "text/plain": [
              "0.7989445022977095"
            ]
          },
          "metadata": {},
          "execution_count": 77
        }
      ],
      "source": [
        "score"
      ]
    },
    {
      "cell_type": "markdown",
      "metadata": {
        "id": "iUL1GxPy_CgN"
      },
      "source": [
        "####**Decision Tree**"
      ]
    },
    {
      "cell_type": "code",
      "execution_count": 78,
      "metadata": {
        "id": "FR87rwVrft1N"
      },
      "outputs": [],
      "source": [
        "pipe_DT,score = model.DecisionTree()"
      ]
    },
    {
      "cell_type": "code",
      "execution_count": 79,
      "metadata": {
        "colab": {
          "base_uri": "https://localhost:8080/"
        },
        "id": "XYtBDFD4g3P-",
        "outputId": "ac1dfbef-85c2-4910-cb5c-f0e6628bf293"
      },
      "outputs": [
        {
          "output_type": "execute_result",
          "data": {
            "text/plain": [
              "0.8524391662589703"
            ]
          },
          "metadata": {},
          "execution_count": 79
        }
      ],
      "source": [
        "score"
      ]
    },
    {
      "cell_type": "markdown",
      "metadata": {
        "id": "zfh9ZUOQEN1L"
      },
      "source": [
        "####**Xgboost**"
      ]
    },
    {
      "cell_type": "code",
      "execution_count": 80,
      "metadata": {
        "id": "4vDDlbMuEaRj"
      },
      "outputs": [],
      "source": [
        "#pipe_DT,score = model.Xgboost()"
      ]
    },
    {
      "cell_type": "code",
      "execution_count": 81,
      "metadata": {
        "id": "6dEOQWQCEqgf"
      },
      "outputs": [],
      "source": [
        "#score"
      ]
    },
    {
      "cell_type": "markdown",
      "metadata": {
        "id": "ii0nc2ZasroK"
      },
      "source": [
        "###**Find Best Model with Grid Search**"
      ]
    },
    {
      "cell_type": "code",
      "execution_count": 82,
      "metadata": {
        "colab": {
          "base_uri": "https://localhost:8080/"
        },
        "id": "DB3FvAvQC2lL",
        "outputId": "40eb67ac-5557-41bf-d823-8a34304c204c"
      },
      "outputs": [
        {
          "output_type": "stream",
          "name": "stderr",
          "text": [
            "/usr/local/lib/python3.7/dist-packages/sklearn/model_selection/_validation.py:372: FitFailedWarning: \n",
            "180 fits failed out of a total of 360.\n",
            "The score on these train-test partitions for these parameters will be set to nan.\n",
            "If these failures are not expected, you can try to debug them by setting error_score='raise'.\n",
            "\n",
            "Below are more details about the failures:\n",
            "--------------------------------------------------------------------------------\n",
            "180 fits failed with the following error:\n",
            "Traceback (most recent call last):\n",
            "  File \"/usr/local/lib/python3.7/dist-packages/sklearn/model_selection/_validation.py\", line 680, in _fit_and_score\n",
            "    estimator.fit(X_train, y_train, **fit_params)\n",
            "  File \"/usr/local/lib/python3.7/dist-packages/sklearn/ensemble/_forest.py\", line 467, in fit\n",
            "    for i, t in enumerate(trees)\n",
            "  File \"/usr/local/lib/python3.7/dist-packages/joblib/parallel.py\", line 1043, in __call__\n",
            "    if self.dispatch_one_batch(iterator):\n",
            "  File \"/usr/local/lib/python3.7/dist-packages/joblib/parallel.py\", line 861, in dispatch_one_batch\n",
            "    self._dispatch(tasks)\n",
            "  File \"/usr/local/lib/python3.7/dist-packages/joblib/parallel.py\", line 779, in _dispatch\n",
            "    job = self._backend.apply_async(batch, callback=cb)\n",
            "  File \"/usr/local/lib/python3.7/dist-packages/joblib/_parallel_backends.py\", line 208, in apply_async\n",
            "    result = ImmediateResult(func)\n",
            "  File \"/usr/local/lib/python3.7/dist-packages/joblib/_parallel_backends.py\", line 572, in __init__\n",
            "    self.results = batch()\n",
            "  File \"/usr/local/lib/python3.7/dist-packages/joblib/parallel.py\", line 263, in __call__\n",
            "    for func, args, kwargs in self.items]\n",
            "  File \"/usr/local/lib/python3.7/dist-packages/joblib/parallel.py\", line 263, in <listcomp>\n",
            "    for func, args, kwargs in self.items]\n",
            "  File \"/usr/local/lib/python3.7/dist-packages/sklearn/utils/fixes.py\", line 216, in __call__\n",
            "    return self.function(*args, **kwargs)\n",
            "  File \"/usr/local/lib/python3.7/dist-packages/sklearn/ensemble/_forest.py\", line 185, in _parallel_build_trees\n",
            "    tree.fit(X, y, sample_weight=curr_sample_weight, check_input=False)\n",
            "  File \"/usr/local/lib/python3.7/dist-packages/sklearn/tree/_classes.py\", line 1320, in fit\n",
            "    X_idx_sorted=X_idx_sorted,\n",
            "  File \"/usr/local/lib/python3.7/dist-packages/sklearn/tree/_classes.py\", line 254, in fit\n",
            "    % self.min_samples_split\n",
            "ValueError: min_samples_split must be an integer greater than 1 or a float in (0.0, 1.0]; got the integer 1\n",
            "\n",
            "  warnings.warn(some_fits_failed_message, FitFailedWarning)\n",
            "/usr/local/lib/python3.7/dist-packages/sklearn/model_selection/_search.py:972: UserWarning: One or more of the test scores are non-finite: [       nan        nan        nan        nan        nan        nan\n",
            " 0.88928562 0.88906527 0.88901967 0.88846056 0.88874409 0.88799792\n",
            "        nan        nan        nan        nan        nan        nan\n",
            " 0.8391985  0.83941128 0.83877149 0.83895179 0.83989207 0.84014111\n",
            "        nan        nan        nan        nan        nan        nan\n",
            " 0.88868645 0.88898473 0.88840166 0.88882635 0.88861868 0.88897911\n",
            "        nan        nan        nan        nan        nan        nan\n",
            " 0.83937116 0.83898998 0.83832568 0.83909518 0.83924967 0.83997148\n",
            "        nan        nan        nan        nan        nan        nan\n",
            " 0.88910349 0.88863282 0.88847706 0.88898578 0.88863695 0.88857472\n",
            "        nan        nan        nan        nan        nan        nan\n",
            " 0.83947412 0.83929707 0.83863015 0.83926056 0.83928695 0.83959529\n",
            "        nan        nan        nan        nan        nan        nan\n",
            " 0.88861348 0.88838828 0.8885616  0.88860562 0.88916163 0.8882631\n",
            "        nan        nan        nan        nan        nan        nan\n",
            " 0.83923473 0.83978427 0.83945625 0.84009284 0.83805215 0.84099984\n",
            "        nan        nan        nan        nan        nan        nan\n",
            " 0.88844511 0.88878762 0.88891717 0.88828557 0.88909553 0.88838935\n",
            "        nan        nan        nan        nan        nan        nan\n",
            " 0.83930138 0.83902677 0.83926927 0.83964555 0.83971975 0.83882542]\n",
            "  category=UserWarning,\n"
          ]
        },
        {
          "output_type": "execute_result",
          "data": {
            "text/plain": [
              "0.9208862794554074"
            ]
          },
          "metadata": {},
          "execution_count": 82
        }
      ],
      "source": [
        "Grid_search_RF, pipe_RF, score = model.GridSearch(\"Random Forest\")\n",
        "score"
      ]
    },
    {
      "cell_type": "code",
      "execution_count": 83,
      "metadata": {
        "colab": {
          "base_uri": "https://localhost:8080/"
        },
        "id": "GopehdAzCCcX",
        "outputId": "42bc75fc-ad6b-4649-ce3a-32b01b5f40a2"
      },
      "outputs": [
        {
          "output_type": "execute_result",
          "data": {
            "text/plain": [
              "{'max_depth': 38,\n",
              " 'max_features': 'sqrt',\n",
              " 'min_samples_leaf': 1,\n",
              " 'min_samples_split': 2,\n",
              " 'n_estimators': 397}"
            ]
          },
          "metadata": {},
          "execution_count": 83
        }
      ],
      "source": [
        "Grid_search_RF[2].best_params_"
      ]
    },
    {
      "cell_type": "markdown",
      "metadata": {
        "id": "mWHWcAy859jp"
      },
      "source": [
        "##**Cross Validation**"
      ]
    },
    {
      "cell_type": "code",
      "execution_count": 84,
      "metadata": {
        "colab": {
          "base_uri": "https://localhost:8080/"
        },
        "id": "LSMj5HvwJvla",
        "outputId": "94721f3f-3bbd-4b61-a517-85a1819ec324"
      },
      "outputs": [
        {
          "output_type": "execute_result",
          "data": {
            "text/plain": [
              "Pipeline(steps=[('columntransformer',\n",
              "                 ColumnTransformer(remainder='passthrough',\n",
              "                                   transformers=[('onehotencoder-1',\n",
              "                                                  OneHotEncoder(sparse=False),\n",
              "                                                  ['district']),\n",
              "                                                 ('onehotencoder-2',\n",
              "                                                  OneHotEncoder(sparse=False),\n",
              "                                                  ['type_of_housing']),\n",
              "                                                 ('onehotencoder-3',\n",
              "                                                  OneHotEncoder(sparse=False),\n",
              "                                                  ['legal_paper'])])),\n",
              "                ('standardscaler', StandardScaler()),\n",
              "                ('randomforestregressor',\n",
              "                 RandomForestRegressor(max_depth=38, max_features='sqrt',\n",
              "                                       n_estimators=397))])"
            ]
          },
          "metadata": {},
          "execution_count": 84
        }
      ],
      "source": [
        "pipe_RF"
      ]
    },
    {
      "cell_type": "code",
      "execution_count": 85,
      "metadata": {
        "id": "CdtEIAaq58K5"
      },
      "outputs": [],
      "source": [
        "from sklearn.model_selection import cross_val_score\n",
        "from sklearn.model_selection import KFold"
      ]
    },
    {
      "cell_type": "code",
      "execution_count": 86,
      "metadata": {
        "colab": {
          "base_uri": "https://localhost:8080/"
        },
        "id": "1z0m9x8H58mB",
        "outputId": "5f533f51-968d-49c2-f241-6d6e4764437e"
      },
      "outputs": [
        {
          "output_type": "stream",
          "name": "stderr",
          "text": [
            "/usr/local/lib/python3.7/dist-packages/sklearn/model_selection/_validation.py:774: UserWarning: Scoring failed. The score on this train-test partition for these parameters will be set to nan. Details: \n",
            "Traceback (most recent call last):\n",
            "  File \"/usr/local/lib/python3.7/dist-packages/sklearn/model_selection/_validation.py\", line 761, in _score\n",
            "    scores = scorer(estimator, X_test, y_test)\n",
            "  File \"/usr/local/lib/python3.7/dist-packages/sklearn/metrics/_scorer.py\", line 105, in __call__\n",
            "    score = scorer(estimator, *args, **kwargs)\n",
            "  File \"/usr/local/lib/python3.7/dist-packages/sklearn/metrics/_scorer.py\", line 418, in _passthrough_scorer\n",
            "    return estimator.score(*args, **kwargs)\n",
            "  File \"/usr/local/lib/python3.7/dist-packages/sklearn/utils/metaestimators.py\", line 113, in <lambda>\n",
            "    out = lambda *args, **kwargs: self.fn(obj, *args, **kwargs)  # noqa\n",
            "  File \"/usr/local/lib/python3.7/dist-packages/sklearn/pipeline.py\", line 707, in score\n",
            "    Xt = transform.transform(Xt)\n",
            "  File \"/usr/local/lib/python3.7/dist-packages/sklearn/compose/_column_transformer.py\", line 753, in transform\n",
            "    column_as_strings=fit_dataframe_and_transform_dataframe,\n",
            "  File \"/usr/local/lib/python3.7/dist-packages/sklearn/compose/_column_transformer.py\", line 615, in _fit_transform\n",
            "    for idx, (name, trans, column, weight) in enumerate(transformers, 1)\n",
            "  File \"/usr/local/lib/python3.7/dist-packages/joblib/parallel.py\", line 1046, in __call__\n",
            "    while self.dispatch_one_batch(iterator):\n",
            "  File \"/usr/local/lib/python3.7/dist-packages/joblib/parallel.py\", line 861, in dispatch_one_batch\n",
            "    self._dispatch(tasks)\n",
            "  File \"/usr/local/lib/python3.7/dist-packages/joblib/parallel.py\", line 779, in _dispatch\n",
            "    job = self._backend.apply_async(batch, callback=cb)\n",
            "  File \"/usr/local/lib/python3.7/dist-packages/joblib/_parallel_backends.py\", line 208, in apply_async\n",
            "    result = ImmediateResult(func)\n",
            "  File \"/usr/local/lib/python3.7/dist-packages/joblib/_parallel_backends.py\", line 572, in __init__\n",
            "    self.results = batch()\n",
            "  File \"/usr/local/lib/python3.7/dist-packages/joblib/parallel.py\", line 263, in __call__\n",
            "    for func, args, kwargs in self.items]\n",
            "  File \"/usr/local/lib/python3.7/dist-packages/joblib/parallel.py\", line 263, in <listcomp>\n",
            "    for func, args, kwargs in self.items]\n",
            "  File \"/usr/local/lib/python3.7/dist-packages/sklearn/utils/fixes.py\", line 216, in __call__\n",
            "    return self.function(*args, **kwargs)\n",
            "  File \"/usr/local/lib/python3.7/dist-packages/sklearn/pipeline.py\", line 876, in _transform_one\n",
            "    res = transformer.transform(X)\n",
            "  File \"/usr/local/lib/python3.7/dist-packages/sklearn/preprocessing/_encoders.py\", line 513, in transform\n",
            "    warn_on_unknown=warn_on_unknown,\n",
            "  File \"/usr/local/lib/python3.7/dist-packages/sklearn/preprocessing/_encoders.py\", line 142, in _transform\n",
            "    raise ValueError(msg)\n",
            "ValueError: Found unknown categories ['Nhà hàng, khách sạn'] in column 0 during transform\n",
            "\n",
            "  UserWarning,\n"
          ]
        }
      ],
      "source": [
        "kf = KFold(n_splits=10, shuffle = True, random_state=True)\n",
        "scores = cross_val_score(pipe_RF, X, np.array(y).ravel(), cv=kf)"
      ]
    },
    {
      "cell_type": "code",
      "execution_count": 87,
      "metadata": {
        "colab": {
          "base_uri": "https://localhost:8080/"
        },
        "id": "Q_wZE8fV58-S",
        "outputId": "35e2491d-81fb-4c04-ab1b-5fc27e3af9dd"
      },
      "outputs": [
        {
          "output_type": "execute_result",
          "data": {
            "text/plain": [
              "array([0.91990687, 0.92605471, 0.90883572, 0.90172215, 0.9014669 ,\n",
              "       0.90377486,        nan, 0.92039037, 0.91861505, 0.91602534])"
            ]
          },
          "metadata": {},
          "execution_count": 87
        }
      ],
      "source": [
        "scores"
      ]
    },
    {
      "cell_type": "markdown",
      "metadata": {
        "id": "rCFRyA1HQeHe"
      },
      "source": [
        "##**Save best model**"
      ]
    },
    {
      "cell_type": "code",
      "execution_count": 88,
      "metadata": {
        "id": "ZV2DApJh25jj"
      },
      "outputs": [],
      "source": [
        "import pickle\n",
        "#save the model to disk\n",
        "filename = 'finalized_model2.sav'\n",
        "pickle.dump(pipe_RF, open(filename, 'wb'))"
      ]
    },
    {
      "cell_type": "code",
      "execution_count": 88,
      "metadata": {
        "id": "L7qY7kuBzYyN"
      },
      "outputs": [],
      "source": [
        ""
      ]
    }
  ],
  "metadata": {
    "colab": {
      "collapsed_sections": [],
      "name": "test.ipynb",
      "toc_visible": true,
      "provenance": []
    },
    "kernelspec": {
      "display_name": "Python 3",
      "name": "python3"
    },
    "language_info": {
      "name": "python"
    }
  },
  "nbformat": 4,
  "nbformat_minor": 0
}